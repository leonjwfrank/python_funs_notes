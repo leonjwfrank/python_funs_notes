{
 "cells": [
  {
   "cell_type": "code",
   "execution_count": 1,
   "metadata": {},
   "outputs": [],
   "source": [
    "# 进程池的join   # 为了加入等待完成队列"
   ]
  },
  {
   "cell_type": "code",
   "execution_count": null,
   "metadata": {},
   "outputs": [],
   "source": [
    "# 线程的join  # 为了加入等待完成队列"
   ]
  },
  {
   "cell_type": "code",
   "execution_count": null,
   "metadata": {},
   "outputs": [],
   "source": [
    "\n",
    "# 字符串的join  # 组合成新的字符串"
   ]
  },
  {
   "cell_type": "code",
   "execution_count": null,
   "metadata": {},
   "outputs": [],
   "source": [
    "'''I was studying the python threading and came across join().\n",
    "\n",
    "The author told that if thread is in daemon mode then i need to use join() so that thread can finish itself before main thread terminates.\n",
    "\n",
    "but I have also seen him using t.join() even though t was not daemon\n",
    "\n",
    "example code is this\n",
    "'''\n",
    "import threading\n",
    "import time\n",
    "import logging\n",
    "\n",
    "logging.basicConfig(level=logging.DEBUG,\n",
    "                    format='(%(threadName)-10s) %(message)s',\n",
    "                    )\n",
    "\n",
    "def daemon():\n",
    "    logging.debug('Starting')\n",
    "    time.sleep(2)\n",
    "    logging.debug('Exiting')\n",
    "\n",
    "d = threading.Thread(name='daemon', target=daemon)\n",
    "d.setDaemon(True)\n",
    "\n",
    "def non_daemon():\n",
    "    logging.debug('Starting')\n",
    "    logging.debug('Exiting')\n",
    "\n",
    "t = threading.Thread(name='non-daemon', target=non_daemon)\n",
    "\n",
    "d.start()\n",
    "t.start()\n",
    "\n",
    "d.join()\n",
    "t.join()\n",
    "'''\n",
    "i don't know what is use of t.join() as it is not daemon and i can see no change even if i remove it\n",
    "'''"
   ]
  },
  {
   "cell_type": "code",
   "execution_count": null,
   "metadata": {},
   "outputs": [],
   "source": [
    "'''\n",
    "A somewhat clumsy ascii-art to demonstrate the mechanism: The join() is presumably called by the main-thread. It could also be called by another thread, but would needlessly complicate the diagram.\n",
    "\n",
    "join-calling should be placed in the track of the main-thread, but to express thread-relation and keep it as simple as possible, I choose to place it in the child-thread instead.\n",
    "\n",
    "without join:\n",
    "+---+---+------------------                     main-thread\n",
    "    |   |\n",
    "    |   +...........                            child-thread(short)\n",
    "    +..................................         child-thread(long)\n",
    "\n",
    "with join\n",
    "+---+---+------------------***********+###      main-thread\n",
    "    |   |                             |\n",
    "    |   +...........join()            |         child-thread(short)\n",
    "    +......................join()......         child-thread(long)\n",
    "\n",
    "with join and daemon thread\n",
    "+-+--+---+------------------***********+###     parent-thread\n",
    "  |  |   |                             |\n",
    "  |  |   +...........join()            |        child-thread(short)\n",
    "  |  +......................join()......        child-thread(long)\n",
    "  +,,,,,,,,,,,,,,,,,,,,,,,,,,,,,,,,,,,,,,,,     child-thread(long + daemonized)\n",
    "\n",
    "'-' main-thread/parent-thread/main-program execution\n",
    "'.' child-thread execution\n",
    "'#' optional parent-thread execution after join()-blocked parent-thread could \n",
    "    continue\n",
    "'*' main-thread 'sleeping' in join-method, waiting for child-thread to finish\n",
    "',' daemonized thread - 'ignores' lifetime of other threads;\n",
    "    terminates when main-programs exits; is normally meant for \n",
    "    join-independent tasks\n",
    "So the reason you don't see any changes is because your main-thread does nothing after your join. \n",
    "You could say join is (only) relevant for the execution-flow of the main-thread.\n",
    "\n",
    "If, for example, you want to concurrently download a bunch of pages to concatenate them into a single large page, \n",
    "you may start concurrent downloads using threads, but need to wait until the last page/thread is finished before you start assembling a single page out of many. \n",
    "That's when you use join().\n",
    "'''"
   ]
  },
  {
   "cell_type": "code",
   "execution_count": null,
   "metadata": {},
   "outputs": [],
   "source": [
    "# 字符串 的连接\n",
    "conn_str = '-'\n",
    "int_list = [192, 168, 0, 100]\n",
    "conn_str.join(list(map(str, int_list)))"
   ]
  },
  {
   "cell_type": "code",
   "execution_count": null,
   "metadata": {},
   "outputs": [],
   "source": [
    "# 参考： https://stackoverflow.com/questions/15085348/what-is-the-use-of-join-in-python-threading"
   ]
  }
 ],
 "metadata": {
  "kernelspec": {
   "display_name": "Python 3",
   "language": "python",
   "name": "python3"
  },
  "language_info": {
   "codemirror_mode": {
    "name": "ipython",
    "version": 3
   },
   "file_extension": ".py",
   "mimetype": "text/x-python",
   "name": "python",
   "nbconvert_exporter": "python",
   "pygments_lexer": "ipython3",
   "version": "3.6.8"
  }
 },
 "nbformat": 4,
 "nbformat_minor": 2
}
