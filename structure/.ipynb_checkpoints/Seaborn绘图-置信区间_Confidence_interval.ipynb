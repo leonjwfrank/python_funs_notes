{
 "cells": [
  {
   "cell_type": "code",
   "execution_count": 1,
   "metadata": {},
   "outputs": [],
   "source": [
    "# 置信区间 Confidence interval"
   ]
  },
  {
   "cell_type": "code",
   "execution_count": 3,
   "metadata": {},
   "outputs": [
    {
     "name": "stdout",
     "output_type": "stream",
     "text": [
      "None\n"
     ]
    }
   ],
   "source": [
    "import seaborn as sn\n",
    "print(sn.set())"
   ]
  },
  {
   "cell_type": "code",
   "execution_count": 6,
   "metadata": {},
   "outputs": [
    {
     "name": "stdout",
     "output_type": "stream",
     "text": [
      "<class 'module'>\n",
      "91\n",
      "['FacetGrid', 'JointGrid', 'PairGrid', '__builtins__', '__cached__', '__doc__', '__file__', '__loader__', '__name__', '__package__', '__path__', '__spec__', '__version__', '_orig_rc_params', 'algorithms', 'axes_style', 'axisgrid', 'barplot', 'blend_palette', 'boxenplot', 'boxplot', 'categorical', 'catplot', 'choose_colorbrewer_palette', 'choose_cubehelix_palette', 'choose_dark_palette', 'choose_diverging_palette', 'choose_light_palette', 'clustermap', 'cm', 'color_palette', 'colors', 'countplot', 'crayon_palette', 'crayons', 'cubehelix_palette', 'dark_palette', 'desaturate', 'despine', 'distplot', 'distributions', 'diverging_palette', 'dogplot', 'external', 'factorplot', 'get_dataset_names', 'heatmap', 'hls_palette', 'husl_palette', 'jointplot', 'kdeplot', 'light_palette', 'lineplot', 'lmplot', 'load_dataset', 'lvplot', 'matrix', 'miscplot', 'mpl', 'mpl_palette', 'pairplot', 'palettes', 'palplot', 'plotting_context', 'pointplot', 'rcmod', 'regplot', 'regression', 'relational', 'relplot', 'reset_defaults', 'reset_orig', 'residplot', 'rugplot', 'saturate', 'scatterplot', 'set', 'set_color_codes', 'set_context', 'set_hls_values', 'set_palette', 'set_style', 'stripplot', 'swarmplot', 'timeseries', 'tsplot', 'utils', 'violinplot', 'widgets', 'xkcd_palette', 'xkcd_rgb']\n"
     ]
    }
   ],
   "source": [
    "print(type(sn))\n",
    "print(len(dir(sn)))\n",
    "print(dir(sn))\n"
   ]
  },
  {
   "cell_type": "code",
   "execution_count": 8,
   "metadata": {},
   "outputs": [
    {
     "data": {
      "image/png": "[encoded data removed]",
      "text/plain": [
       "<Figure size 576x288 with 1 Axes>"
      ]
     },
     "metadata": {},
     "output_type": "display_data"
    }
   ],
   "source": [
    "import numpy as np\n",
    "import seaborn\n",
    "import probscale\n",
    "from matplotlib import pyplot\n",
    "\n",
    "\n",
    "N = 15\n",
    "np.random.seed(0)\n",
    "x = np.random.normal(size=N) + np.random.uniform(size=N)\n",
    "fig, ax = pyplot.subplots(figsize=(8, 4))\n",
    "fig = probscale.probplot(x, ax=ax, bestfit=True, estimate_ci=True,\n",
    "                         line_kws={'label': 'BF Line', 'color': 'b'},\n",
    "                         scatter_kws={'label': 'Observations'},\n",
    "                         problabel='Probability (%)')\n",
    "ax.legend(loc='lower right')\n",
    "ax.set_ylim(bottom=-2, top=4)\n",
    "seaborn.despine(fig)\n",
    "pyplot.show()"
   ]
  },
  {
   "cell_type": "code",
   "execution_count": 9,
   "metadata": {},
   "outputs": [
    {
     "data": {
      "image/png": "[encoded data removed]",
      "text/plain": [
       "<Figure size 576x288 with 1 Axes>"
      ]
     },
     "metadata": {
      "needs_background": "light"
     },
     "output_type": "display_data"
    }
   ],
   "source": [
    "import matplotlib.pyplot as plt\n",
    "import probscale\n",
    "import seaborn\n",
    "clear_bkgd = {'axes.facecolor':'none', 'figure.facecolor':'none'}\n",
    "seaborn.set(style='ticks', context='notebook', rc=clear_bkgd)\n",
    "\n",
    "fig, ax = plt.subplots(figsize=(8, 4))\n",
    "ax.set_ylim(1e-2, 1e2)\n",
    "ax.set_yscale('log')\n",
    "\n",
    "ax.set_xlim(0.5, 99.5)\n",
    "ax.set_xscale('prob')\n",
    "seaborn.despine(fig=fig)"
   ]
  },
  {
   "cell_type": "code",
   "execution_count": 12,
   "metadata": {
    "scrolled": true
   },
   "outputs": [
    {
     "name": "stdout",
     "output_type": "stream",
     "text": [
      "============================= test session starts ==============================\n",
      "platform darwin -- Python 3.6.8, pytest-4.4.0, py-1.8.0, pluggy-0.9.0\n",
      "rootdir: /Library/Frameworks/Python.framework/Versions/3.6/lib/python3.6/site-packages/probscale/tests\n",
      "plugins: celery-4.3.0\n",
      "collected 142 items / 1 errors / 141 selected\n",
      "\n",
      "==================================== ERRORS ====================================\n",
      "_____________________ ERROR collecting test_transforms.py ______________________\n",
      "Fixture \"prob_trans\" called directly. Fixtures are not meant to be called directly,\n",
      "but are created automatically when test functions request them as parameters.\n",
      "See https://docs.pytest.org/en/latest/fixture.html for more information about fixtures, and\n",
      "https://docs.pytest.org/en/latest/deprecations.html#calling-fixtures-directly about how to update your code.\n",
      "!!!!!!!!!!!!!!!!!!! Interrupted: 1 errors during collection !!!!!!!!!!!!!!!!!!!!\n",
      "=========================== 1 error in 0.32 seconds ============================\n"
     ]
    },
    {
     "data": {
      "text/plain": [
       "2"
      ]
     },
     "execution_count": 12,
     "metadata": {},
     "output_type": "execute_result"
    }
   ],
   "source": [
    "import matplotlib\n",
    "matplotlib.use('agg')\n",
    "from probscale import tests\n",
    "tests.test()"
   ]
  },
  {
   "cell_type": "code",
   "execution_count": null,
   "metadata": {},
   "outputs": [],
   "source": []
  }
 ],
 "metadata": {
  "kernelspec": {
   "display_name": "Python 3",
   "language": "python",
   "name": "python3"
  },
  "language_info": {
   "codemirror_mode": {
    "name": "ipython",
    "version": 3
   },
   "file_extension": ".py",
   "mimetype": "text/x-python",
   "name": "python",
   "nbconvert_exporter": "python",
   "pygments_lexer": "ipython3",
   "version": "3.6.8"
  }
 },
 "nbformat": 4,
 "nbformat_minor": 2
}
