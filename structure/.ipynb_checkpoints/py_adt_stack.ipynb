{
 "cells": [
  {
   "cell_type": "code",
   "execution_count": 1,
   "metadata": {},
   "outputs": [],
   "source": [
    "# 一，py 实现一个栈类, 栈抽象数据的py实现\n",
    "# 栈的基本操作包括，压入，弹出，判断空，大小判断等\n",
    "class Stack(object):\n",
    "    def __init__(self):\n",
    "        self.items = []\n",
    "    def isEmpty(self):\n",
    "        return self.items == []\n",
    "    def push(self, value):\n",
    "        self.items.append(value)      # 此时性能O(1) 比 insert(0, value)  O(n)高\n",
    "    def pop(self):\n",
    "        return self.items.pop()      # 默认弹出栈顶，性能高于 pop(n)  \n",
    "    def peek(self):\n",
    "        return self.items[len(self.items)-1]  # 返回最上层数据\n",
    "    def size(self):\n",
    "        return len(self.items)\n"
   ]
  },
  {
   "cell_type": "code",
   "execution_count": 2,
   "metadata": {},
   "outputs": [
    {
     "name": "stdout",
     "output_type": "stream",
     "text": [
      "[8]\n",
      "8\n",
      "1\n"
     ]
    }
   ],
   "source": [
    "st = Stack()\n",
    "st.push(8)\n",
    "print(st.items)\n",
    "print(st.peek())\n",
    "print(st.size())"
   ]
  },
  {
   "cell_type": "code",
   "execution_count": 3,
   "metadata": {},
   "outputs": [],
   "source": [
    "# 1.1，栈的应用，高级语言的基础算法，简单括号匹配\n",
    "# 栈也可以用于 XML,HTML的成对的关键字匹配校验\n",
    "# 括号一般用来指定表达式的运算优先级，多层括号的层级是否正确如，((()), ())))))\n",
    "# 规则，按栈的方式取值，第一个左括号 匹配 第一个右括号\n",
    "#  推广到 开闭校验，如 html\n",
    "def parChecker(symb_str):\n",
    "    s = Stack()\n",
    "    balanced = True    # 判断是否对称\n",
    "    index = 0\n",
    "    while index < len(symb_str) and balanced:\n",
    "        symb = symb_str[index]\n",
    "        if symb in \"([{\":\n",
    "            s.push(symb)\n",
    "        else:\n",
    "            if s.isEmpty():\n",
    "                balanced = False\n",
    "            else:\n",
    "                top = s.pop()\n",
    "                if not matched(top, symb):   # 右括号是否与原 左括号匹配\n",
    "                    balanced = False\n",
    "        index = index + 1\n",
    "    if balanced and s.isEmpty():\n",
    "        return True\n",
    "    else:\n",
    "        return False\n",
    "    \n",
    "def matched(op, cs):\n",
    "    opens = \"([{\"   # \n",
    "    closers = \")]}\"   # 与opens需要对应\n",
    "    return opens.index(op) == closers.index(cs)"
   ]
  },
  {
   "cell_type": "code",
   "execution_count": 4,
   "metadata": {},
   "outputs": [
    {
     "name": "stdout",
     "output_type": "stream",
     "text": [
      "False\n",
      "True\n"
     ]
    }
   ],
   "source": [
    "print(parChecker('({{[[{]]}})'))\n",
    "print(parChecker('()'))"
   ]
  },
  {
   "cell_type": "code",
   "execution_count": 5,
   "metadata": {},
   "outputs": [
    {
     "name": "stdout",
     "output_type": "stream",
     "text": [
      "False\n",
      "True\n",
      "True\n"
     ]
    }
   ],
   "source": [
    "def parChecker(symb_str):\n",
    "    def matched(op, cs):\n",
    "        opens = \"([{\"   #  左括号\n",
    "        closers = \")]}\"   # 与opens需要对应\n",
    "        return opens.index(op) == closers.index(cs)\n",
    "\n",
    "    s = Stack()\n",
    "    balanced = True    # 判断是否对称\n",
    "    index = 0\n",
    "    while index < len(symb_str) and balanced:\n",
    "        symb = symb_str[index]\n",
    "        if symb in \"([{\":\n",
    "            s.push(symb)\n",
    "        else:\n",
    "            if s.isEmpty():\n",
    "                balanced = False\n",
    "            else:\n",
    "                top = s.pop()\n",
    "                if not matched(top, symb):   # 右括号是否与原 左括号匹配\n",
    "                    balanced = False\n",
    "        index = index + 1\n",
    "    if balanced and s.isEmpty():\n",
    "        return True\n",
    "    else:\n",
    "        return False\n",
    "\n",
    "\n",
    "print(parChecker('({{[[{]]}})'))\n",
    "print(parChecker('()'))\n",
    "print(parChecker('([])'))"
   ]
  },
  {
   "cell_type": "code",
   "execution_count": 6,
   "metadata": {},
   "outputs": [],
   "source": [
    "# 1.2，栈的应用，十进制转化为二进制\n",
    "# 人类常用的计算方法为 十进制，计算机计算方法为二进制\n",
    "# 高级语言算法 会经常对 十进制和二进制进行转换\n",
    "# 十进制转换为二进制，采用的是 除以2求余数的算法\n",
    "# 将整数不断除以2，每次得到的余数就是由低到高 的二进制\n",
    "# 35 / 2  = 17  余 1  -- k0    # 低位\n",
    "# 17 /2 = 8   余   1  -- k1\n",
    "# 8/2 = 4   余  0  -- k2\n",
    "# 4/2 = 2  余  0  -- k3\n",
    "# 2/2 = 1 余  0   -- k4\n",
    "# 1/2 = 0 余  1  --  k5     # 高位"
   ]
  },
  {
   "cell_type": "code",
   "execution_count": 7,
   "metadata": {},
   "outputs": [
    {
     "name": "stdout",
     "output_type": "stream",
     "text": [
      "101010\n",
      "52\n",
      "2A\n"
     ]
    }
   ],
   "source": [
    "def  divideBy2(decNumber, n=None):\n",
    "    \"\"\"10进制转换为2进制，默认\n",
    "    :params  decNumber 要转换的数字\n",
    "    :params n 要转换为的进制，默认为2\"\"\"\n",
    "    digits = \"0123456789ABCDEF\"\n",
    "    if not n:\n",
    "        n = 2\n",
    "    remstack = Stack()    # 栈来处理逆序算法\n",
    "    while decNumber > 0:\n",
    "        rem = decNumber % n       # 求余数\n",
    "        remstack.push(rem)\n",
    "        decNumber = decNumber // n    # 整数除\n",
    "    binString = ''\n",
    "    while not remstack.isEmpty():\n",
    "        binString = binString + digits[remstack.pop()]   # 取相应进制组合成数字\n",
    "    return binString\n",
    "\n",
    "print(divideBy2(42, 2))\n",
    "print(divideBy2(42, 8))\n",
    "print(divideBy2(42, 16))"
   ]
  },
  {
   "cell_type": "code",
   "execution_count": 8,
   "metadata": {},
   "outputs": [],
   "source": [
    "# 1.3，栈的应用，表达式转换\n",
    "# 中缀表达式。A*B 类似这样，操作符介于操作数 operabd 中间的表示法，称为 中缀 表示法\n",
    "# 有括号时，括号表示强制优先级，嵌套括号中，内层优先级更高\n",
    "# 以操作符相对于操作数的位置来定义，\n",
    "# 前缀表达式。+AB， A+B*C  的前缀表达式为   +A*BC\n",
    "# 后缀表达式。AB+,   A+B*C 的后缀表达式为   ABC*+\n",
    "# 中缀 转换为前缀或后缀表达式\n",
    "# 1，中缀表达式 转换为 全括号形式\n",
    "# 2，把运算符移到 左括号(前缀)  或 右括号(后缀)并替换，然后删除所有括号即可\n"
   ]
  },
  {
   "cell_type": "code",
   "execution_count": 9,
   "metadata": {},
   "outputs": [],
   "source": [
    "def infixToPostfix(infixexpr):\n",
    "    prec = {}\n",
    "    prec[\"*\"] = 3\n",
    "    prec[\"/\"] = 3\n",
    "    prec[\"+\"] = 2\n",
    "    prec[\"-\"] = 2\n",
    "    prec[\"(\"] = 1\n",
    "    opStack = Stack()\n",
    "    postfixList = []\n",
    "#     tokenList = infixexpr.split()    # 解析表达式到单词列表\n",
    "    tokenList = list(infixexpr) # .split()    # 解析表达式到单词列表\n",
    "    print('tokenList:{}'.format(tokenList))\n",
    "    words = \"ABCDEFGHIJKLMNOPQRSTUVWXYZ\" \n",
    "    nums = \"0123456789\"\n",
    "    for token in tokenList:\n",
    "        if token in \"ABCDEFGHIJKLMNOPQRSTUVWXYZ\"  or token in \"0123456789\":\n",
    "            postfixList.append(token)        # 操作数\n",
    "            print('num postfixList:{}'.format(postfixList))\n",
    "        elif token == \"(\":\n",
    "            opStack.push(token)\n",
    "            print(' ( postfixList:{}'.format(postfixList))\n",
    "        elif token == \")\":\n",
    "            topToken = opStack.pop()\n",
    "            while topToken != \"(\":\n",
    "                postfixList.append(topToken)\n",
    "                topToken = opStack.pop()\n",
    "                print(' ) postfixList:{}'.format(postfixList))\n",
    "        else:     # 操作符\n",
    "            while (not opStack.isEmpty()) and (prec[opStack.peek()] >= prec[token]):\n",
    "                postfixList.append(opStack.pop())\n",
    "                print('peek postfixList:{}'.format(postfixList))\n",
    "            opStack.push(token)\n",
    "        print('sign postfixList:{}'.format(postfixList))\n",
    "    while not opStack.isEmpty():\n",
    "        postfixList.append(opStack.pop())    # 操作符\n",
    "    print('last postfixList:{}'.format(postfixList))\n",
    "    return \"\".join(postfixList)   # 合成后缀表达式字符"
   ]
  },
  {
   "cell_type": "code",
   "execution_count": 10,
   "metadata": {},
   "outputs": [
    {
     "name": "stdout",
     "output_type": "stream",
     "text": [
      "tokenList:['A', '+', '(', 'B', '*', 'C', ')']\n",
      "num postfixList:['A']\n",
      "sign postfixList:['A']\n",
      "sign postfixList:['A']\n",
      " ( postfixList:['A']\n",
      "sign postfixList:['A']\n",
      "num postfixList:['A', 'B']\n",
      "sign postfixList:['A', 'B']\n",
      "sign postfixList:['A', 'B']\n",
      "num postfixList:['A', 'B', 'C']\n",
      "sign postfixList:['A', 'B', 'C']\n",
      " ) postfixList:['A', 'B', 'C', '*']\n",
      "sign postfixList:['A', 'B', 'C', '*']\n",
      "last postfixList:['A', 'B', 'C', '*', '+']\n",
      "ABC*+\n"
     ]
    }
   ],
   "source": [
    "print(infixToPostfix(\"A+(B*C)\"))"
   ]
  },
  {
   "cell_type": "code",
   "execution_count": 11,
   "metadata": {},
   "outputs": [],
   "source": [
    "# 后缀表达式求值\n",
    "# 由于操作符在后缀表达式的后面，需要暂存操作数，在碰到操作符的时候，再将暂存的两个操作数进行实际的计算，\n",
    "# 利用栈的特点，操作符只作用于离它最近的两个操作数\n",
    "# 如后缀表达式 4 5 6 * +\n",
    "# 1，弹出两个操作数6，5，计算得到结果30， 先弹出的右操作数，后弹出的是左操作数，这对于 -/ 很重要\n",
    "# 2，将30 压入栈顶，继续扫描后面的符号\n",
    "# 3，所以操作符都处理完毕，栈中只留下1个操作数，这个数就是表达式的值\n",
    "\n",
    "# 代码步骤\n",
    "# 创建空栈operandStack 用于 暂存操作数\n",
    "# 将后缀表达式用split 方法解析为单词 token，从左到右扫描单词列表，如果单词是一个操作数，将单词转换为整数int，压入oparandStack 栈顶\n",
    "# 如果单词是一个操作符号 (*/+-), 就开始求值，从栈顶弹出2个操作数，先弹出的是右操作数，计算后重新压入栈顶\n",
    "# 单词扫描结束后，表达式的值就在栈顶\n",
    "# 弹出栈顶的值，返回\n"
   ]
  },
  {
   "cell_type": "code",
   "execution_count": 12,
   "metadata": {},
   "outputs": [],
   "source": [
    "\n",
    "def doMath(op, op1, op2):\n",
    "    if op== '*':\n",
    "        return op1 * op2\n",
    "    elif op == '/':\n",
    "        return op1 / op2\n",
    "    elif op == '+':\n",
    "        return op1 + op2\n",
    "    else:\n",
    "        return op1 - op2\n"
   ]
  },
  {
   "cell_type": "code",
   "execution_count": 13,
   "metadata": {},
   "outputs": [],
   "source": [
    "def  postfixEval(postfixExpr):\n",
    "    operandStack = Stack()\n",
    "    tokenList = list(postfixExpr)  #.split()\n",
    "#     tokenList = postfixExpr.split()\n",
    "    print('tokenList:{}'.format(tokenList))\n",
    "    for token in tokenList:\n",
    "#         if token in \"0123456789\":\n",
    "        if isinstance(token, int): \n",
    "            operandStack.push(int(token))   # 操作数\n",
    "            print('operandStack:{}'.format(operandStack.items))\n",
    "        else:\n",
    "            operand2 = operandStack.pop()\n",
    "            print('pop operand2:{}'.format(operand2))\n",
    "            print('operandStack:{}'.format(operandStack.items))\n",
    "            operand1 = operandStack.pop()\n",
    "            print('pop operand1:{}'.format(operand1))\n",
    "            print('operandStack:{}'.format(operandStack.items))\n",
    "            result = doMath(token, operand1, operand2)   # 操作符\n",
    "            operandStack.push(result)\n",
    "            print('result operandStack:{}'.format(operandStack.items))\n",
    "    rst = operandStack.pop()\n",
    "    print('result:{}'.format(rst))\n",
    "    del operandStack\n",
    "    return rst"
   ]
  },
  {
   "cell_type": "code",
   "execution_count": 16,
   "metadata": {},
   "outputs": [
    {
     "name": "stdout",
     "output_type": "stream",
     "text": [
      "tokenList:['9', '-', '(', '7', '*', '2', ')']\n",
      "num postfixList:['9']\n",
      "sign postfixList:['9']\n",
      "sign postfixList:['9']\n",
      " ( postfixList:['9']\n",
      "sign postfixList:['9']\n",
      "num postfixList:['9', '7']\n",
      "sign postfixList:['9', '7']\n",
      "sign postfixList:['9', '7']\n",
      "num postfixList:['9', '7', '2']\n",
      "sign postfixList:['9', '7', '2']\n",
      " ) postfixList:['9', '7', '2', '*']\n",
      "sign postfixList:['9', '7', '2', '*']\n",
      "last postfixList:['9', '7', '2', '*', '-']\n",
      "back_express:972*-\n"
     ]
    }
   ],
   "source": [
    "back_express = infixToPostfix(\"9-(7*2)\")\n",
    "print('back_express:{}'.format(back_express))\n",
    "# print(postfixEval(back_express))\n",
    "# print(doMath(\"-\", 10, 11))"
   ]
  },
  {
   "cell_type": "code",
   "execution_count": 17,
   "metadata": {},
   "outputs": [],
   "source": [
    "def func1(str1):\n",
    "    s1, s2 = Stack(), Stack()\n",
    "    for char in str1:\n",
    "        s1.push(char)\n",
    "    print('s1:{}'.format(s1))\n",
    "    lst2 = []\n",
    "    while not s1.isEmpty():\n",
    "#         lst2.append(s1.peek())\n",
    "        for i in range(s1.pop()):\n",
    "            s2.push(i)\n",
    "        lst2.append(s2.size())\n",
    "    return lst2\n"
   ]
  },
  {
   "cell_type": "code",
   "execution_count": 18,
   "metadata": {},
   "outputs": [
    {
     "name": "stdout",
     "output_type": "stream",
     "text": [
      "s1:<__main__.Stack object at 0x109ef8160>\n",
      "rst:[9, 16, 21, 24, 25]\n"
     ]
    }
   ],
   "source": [
    "print('rst:{}'.format(func1([1,3,5,7,9])))"
   ]
  },
  {
   "cell_type": "code",
   "execution_count": 19,
   "metadata": {},
   "outputs": [],
   "source": [
    "# test pytest\n",
    "# content of test_sample.py\n",
    "def func(x):\n",
    "    return x + 1\n",
    "def test_answer():\n",
    "    assert func(3) == 5"
   ]
  },
  {
   "cell_type": "code",
   "execution_count": null,
   "metadata": {},
   "outputs": [],
   "source": [
    "# 二，队列 Queue\n",
    "#  代码示例\n",
    "class Queue(object):\n",
    "    def __init__(self):\n",
    "        self.item = []\n",
    "    def isEmpty(self):\n",
    "        return self.item == []\n",
    "    def enqueue(self, item):\n",
    "        self.items.insert(0, item)      # O(n)\n",
    "    def dequeue(self):\n",
    "        return self.items.pop()     #O(1)\n",
    "    def size(self):\n",
    "        return len(self.items)\n",
    "    "
   ]
  },
  {
   "cell_type": "code",
   "execution_count": 21,
   "metadata": {},
   "outputs": [
    {
     "name": "stdout",
     "output_type": "stream",
     "text": [
      "lis:[1, 3, 5, 7, 9]\n",
      "lis:[3, 5, 7, 9]\n",
      "lis:[5, 7, 9]\n",
      "lis:[7, 9]\n",
      "25\n"
     ]
    }
   ],
   "source": [
    "# 四 递归\n",
    "# 数列求和\n",
    "def listsum(lis):\n",
    "        # 递归调用\n",
    "        if len(lis) == 1:\n",
    "            return lis[0]\n",
    "        else:\n",
    "            print('lis:{}'.format(lis))\n",
    "            return lis[0] + listsum(lis[1:])\n",
    "\n",
    "print(listsum([1,3,5,7,9]))\n"
   ]
  },
  {
   "cell_type": "code",
   "execution_count": 23,
   "metadata": {
    "scrolled": true
   },
   "outputs": [
    {
     "name": "stdout",
     "output_type": "stream",
     "text": [
      "5AD\n",
      "10110101101\n",
      "2655\n",
      "1453\n"
     ]
    }
   ],
   "source": [
    "# 递归 实现 十进制到任意进制的转换\n",
    "def toStr(n, base):\n",
    "    convertString = \"0123456789ABCDEF\"\n",
    "    if n < base:\n",
    "        return convertString[n]  # 小于进制，直接查表返回\n",
    "    else:\n",
    "        return toStr(n // base, base) + convertString[n%base]\n",
    "\n",
    "# 16进制转换\n",
    "print(toStr(1453,16))\n",
    "print(toStr(1453,2))\n",
    "print(toStr(1453,8))\n",
    "print(toStr(1453,10))\n",
    "    "
   ]
  },
  {
   "cell_type": "code",
   "execution_count": 3,
   "metadata": {},
   "outputs": [],
   "source": [
    "# 分形树 -- 递归\n",
    "# 正方形和五角星\n",
    "import turtle\n",
    "# 作图开始，t.forward 指挥海龟作图\n",
    "\n",
    "# t.forward(100)  # 拉出一个100的直线\n",
    "def close_turtle():\n",
    "    turtle.done()\n",
    "    \n",
    "def square():\n",
    "    t = turtle.Turtle()\n",
    "    for i in range(4):  # 绘制一个正方形\n",
    "        t.forward(100)  # 向前100\n",
    "        t.right(90)   # 右转90度\n",
    "    close_turtle()\n",
    "\n",
    "def red_Pentagram():\n",
    "    t = turtle.Turtle()\n",
    "    t.pencolor('red')\n",
    "    t.pensize(3)\n",
    "    for i in range(5):\n",
    "        t.forward(100)\n",
    "        t.right(144)  # 五角星\n",
    "    t.hideturtle()    # 完成后隐藏海龟\n",
    "    close_turtle()"
   ]
  },
  {
   "cell_type": "code",
   "execution_count": 2,
   "metadata": {},
   "outputs": [],
   "source": [
    "red_Pentagram()  # 五角星"
   ]
  },
  {
   "cell_type": "code",
   "execution_count": 1,
   "metadata": {},
   "outputs": [],
   "source": [
    "def drawSpiral(t, lineLen):\n",
    "    if lineLen >0:   # 最小退出\n",
    "        t.forward(lineLen)\n",
    "        t.right(90)\n",
    "        drawSpiral(t, lineLen -5 )  # 规模减少"
   ]
  },
  {
   "cell_type": "code",
   "execution_count": 2,
   "metadata": {},
   "outputs": [],
   "source": [
    "import turtle\n",
    "t1 = turtle.Turtle()\n",
    "drawSpiral(t1, 200)  \n",
    "turtle.done()"
   ]
  },
  {
   "cell_type": "code",
   "execution_count": 17,
   "metadata": {},
   "outputs": [],
   "source": [
    "#  查找串中连续出现次数最多的字符\n",
    "def ret_str_matx(dic1):\n",
    "    vs = sorted(dic1.values())\n",
    "    max_v = 0\n",
    "    for k,v in dic1.items():\n",
    "        print('vi:{}'.format(k))\n",
    "        if v == vs[-1]:\n",
    "            max_v = k*v\n",
    "            break\n",
    "    print(f'max:{len(max_v)}, max_v:{max_v}')\n",
    "    return max_v\n",
    "def ret_large(str2=None):\n",
    "    lis_dic = {}\n",
    "    x=0\n",
    "    for i in str2:\n",
    "        if i in lis_dic and x==i:\n",
    "            lis_dic[i] = lis_dic[i] + 1\n",
    "        else:\n",
    "            lis_dic[i] = 1\n",
    "        x=i\n",
    "#     dic1 = {\"A\":1, \"B\":2, \"C\":6, \"D\":5}\n",
    "    return ret_str_matx(lis_dic)\n",
    "    \n",
    "    \n"
   ]
  },
  {
   "cell_type": "code",
   "execution_count": 18,
   "metadata": {},
   "outputs": [
    {
     "name": "stdout",
     "output_type": "stream",
     "text": [
      "vi:a\n",
      "vi:b\n",
      "vi:c\n",
      "vi:d\n",
      "vi:f\n",
      "vi:g\n",
      "vi:h\n",
      "vi:v\n",
      "vi:j\n",
      "vi:k\n",
      "max:9, max_v:kkkkkkkkk\n",
      "kkkkkkkkk\n"
     ]
    }
   ],
   "source": [
    "print(ret_large(\"abcdfgabcdhabcbahdcbaaachabaaavvvvvddddjjjjjkkkkkkkkk\"))"
   ]
  },
  {
   "cell_type": "code",
   "execution_count": 20,
   "metadata": {},
   "outputs": [],
   "source": [
    "# 按字典value中每个字符重复次数排序\n",
    "\n",
    "def repeats(string):\n",
    "            # 按每个字符串中重复字母的数量对键/值字符串进行排序\n",
    "            # Lower the case in the string\n",
    "            string = string.lower()\n",
    "            # Get a set of the unique letters\n",
    "            uniques = set(string)\n",
    "            # Count the max occurrences of each unique letter\n",
    "            print(uniques)\n",
    "            counts = [string.count(letter) for letter in uniques]\n",
    "            print(f'counts:{counts}')\n",
    "\t  \n",
    "            return max(counts)"
   ]
  },
  {
   "cell_type": "code",
   "execution_count": 23,
   "metadata": {},
   "outputs": [],
   "source": [
    "dic5 = dict(one='January',\n",
    "                 two='February',\n",
    "                 three='March',\n",
    "                 four='April',\n",
    "                 five='May',\n",
    "                six='June',\n",
    "                seven='July',\n",
    "                eight='August',\n",
    "                nine='September',\n",
    "                ten='October',\n",
    "                eleven='November',\n",
    "               twelve='December')"
   ]
  },
  {
   "cell_type": "code",
   "execution_count": 24,
   "metadata": {},
   "outputs": [
    {
     "name": "stdout",
     "output_type": "stream",
     "text": [
      "{'r', 'j', 'n', 'y', 'u', 'a'}\n",
      "counts:[1, 1, 1, 1, 1, 2]\n",
      "{'r', 'f', 'y', 'u', 'b', 'a', 'e'}\n",
      "counts:[2, 1, 1, 1, 1, 1, 1]\n",
      "{'m', 'r', 'c', 'h', 'a'}\n",
      "counts:[1, 1, 1, 1, 1]\n",
      "{'l', 'r', 'i', 'p', 'a'}\n",
      "counts:[1, 1, 1, 1, 1]\n",
      "{'m', 'y', 'a'}\n",
      "counts:[1, 1, 1]\n",
      "{'e', 'j', 'n', 'u'}\n",
      "counts:[1, 1, 1, 1]\n",
      "{'l', 'j', 'y', 'u'}\n",
      "counts:[1, 1, 1, 1]\n",
      "{'t', 's', 'u', 'g', 'a'}\n",
      "counts:[1, 1, 2, 1, 1]\n",
      "{'m', 't', 's', 'r', 'p', 'b', 'e'}\n",
      "counts:[1, 1, 1, 1, 1, 1, 3]\n",
      "{'t', 'r', 'c', 'b', 'e', 'o'}\n",
      "counts:[1, 1, 1, 1, 1, 2]\n",
      "{'m', 'r', 'n', 'b', 'v', 'e', 'o'}\n",
      "counts:[1, 1, 1, 1, 1, 2, 1]\n",
      "{'m', 'r', 'c', 'd', 'b', 'e'}\n",
      "counts:[1, 1, 1, 1, 1, 3]\n"
     ]
    },
    {
     "data": {
      "text/plain": [
       "['September',\n",
       " 'December',\n",
       " 'January',\n",
       " 'February',\n",
       " 'August',\n",
       " 'October',\n",
       " 'November',\n",
       " 'March',\n",
       " 'April',\n",
       " 'May',\n",
       " 'June',\n",
       " 'July']"
      ]
     },
     "execution_count": 24,
     "metadata": {},
     "output_type": "execute_result"
    }
   ],
   "source": [
    "sorted(dic5.values(), key=repeats, reverse=True)"
   ]
  },
  {
   "cell_type": "code",
   "execution_count": 25,
   "metadata": {},
   "outputs": [],
   "source": [
    "numbermap = {'one': 1, 'two': 2, 'three': 3, 'four': 4, 'five': 5,'six':6, 'seven':7, 'eight':8, 'nine':9, 'ten':10, 'eleven':11, 'twelve':12}"
   ]
  },
  {
   "cell_type": "code",
   "execution_count": 26,
   "metadata": {},
   "outputs": [
    {
     "data": {
      "text/plain": [
       "['January',\n",
       " 'February',\n",
       " 'March',\n",
       " 'April',\n",
       " 'May',\n",
       " 'June',\n",
       " 'July',\n",
       " 'August',\n",
       " 'September',\n",
       " 'October',\n",
       " 'November',\n",
       " 'December']"
      ]
     },
     "execution_count": 26,
     "metadata": {},
     "output_type": "execute_result"
    }
   ],
   "source": [
    "[dic5[i] for i in sorted(dic5, key=numbermap.__getitem__)]\n"
   ]
  },
  {
   "cell_type": "code",
   "execution_count": null,
   "metadata": {},
   "outputs": [],
   "source": []
  }
 ],
 "metadata": {
  "kernelspec": {
   "display_name": "Python 3",
   "language": "python",
   "name": "python3"
  },
  "language_info": {
   "codemirror_mode": {
    "name": "ipython",
    "version": 3
   },
   "file_extension": ".py",
   "mimetype": "text/x-python",
   "name": "python",
   "nbconvert_exporter": "python",
   "pygments_lexer": "ipython3",
   "version": "3.6.8"
  }
 },
 "nbformat": 4,
 "nbformat_minor": 2
}
