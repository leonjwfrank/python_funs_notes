{
 "cells": [
  {
   "cell_type": "code",
   "execution_count": 1,
   "metadata": {},
   "outputs": [],
   "source": [
    "# with 语句\n",
    "# with 声明中我们可以做一下开始和清楚操作\n",
    "# 还能对异常进行处理，主要涉及两个魔术方法: __enter__ 和 __exit__\n",
    "# __enter__(self)\n",
    "# __enter__ 会返回一个值，并赋值给as关键词之后的变量。在这里，你可以定义代码段开始的一些操作\n"
   ]
  },
  {
   "cell_type": "code",
   "execution_count": 2,
   "metadata": {},
   "outputs": [],
   "source": [
    "# __exit__(self, exception_type, exception_value, traceback)\n",
    "#  __exit__定义了一些代码段结束后的一些操作，可以执行一些清除操作，或做一些代码段结束后需要立即执行的命令，比如文件关闭，socket断开等，\n",
    "# 如果代码成功结束，exception_type，exception_value， traceback 都将传入None, 如果抛出异常, 则分别为异常等类型，异常值，异常追踪栈\n",
    "# 如果__exit__返回True 那么with 声明下的代码段一切异常将会被屏蔽\n",
    "# 若 __exit__返回None, 那么如果有异常，异常将正常抛出，这时候with作用不会显现"
   ]
  },
  {
   "cell_type": "code",
   "execution_count": 8,
   "metadata": {},
   "outputs": [],
   "source": [
    "class DemoManager(object):\n",
    "    def __enter__(self):\n",
    "        pass\n",
    "    def __exit__(self, ex_type, ex_value, ex_tb):\n",
    "        if ex_type is IndexError:\n",
    "            print(ex_value.__class__)\n",
    "            return True\n",
    "        if ex_type is TypeError:\n",
    "            print(ex_value.__class__)\n",
    "            return #None"
   ]
  },
  {
   "cell_type": "code",
   "execution_count": 9,
   "metadata": {},
   "outputs": [
    {
     "name": "stdout",
     "output_type": "stream",
     "text": [
      "<class 'IndexError'>\n"
     ]
    }
   ],
   "source": [
    "# 同步上下文\n",
    "with DemoManager() as nothing:\n",
    "    data = [1,2,3]\n",
    "    data[4]  # IndexError ，该异常被__exit__处理了，不会抛出"
   ]
  },
  {
   "cell_type": "code",
   "execution_count": 7,
   "metadata": {},
   "outputs": [
    {
     "name": "stdout",
     "output_type": "stream",
     "text": [
      "<class 'TypeError'>\n"
     ]
    },
    {
     "ename": "TypeError",
     "evalue": "list indices must be integers or slices, not str",
     "traceback": [
      "\u001b[0;31m---------------------------------------------------------------------------\u001b[0m",
      "\u001b[0;31mTypeError\u001b[0m                                 Traceback (most recent call last)",
      "\u001b[0;32m<ipython-input-7-c05b89b0e4f8>\u001b[0m in \u001b[0;36m<module>\u001b[0;34m\u001b[0m\n\u001b[1;32m      1\u001b[0m \u001b[0;32mwith\u001b[0m \u001b[0mDemoManager\u001b[0m\u001b[0;34m(\u001b[0m\u001b[0;34m)\u001b[0m \u001b[0;32mas\u001b[0m \u001b[0mnothing2\u001b[0m\u001b[0;34m:\u001b[0m\u001b[0;34m\u001b[0m\u001b[0;34m\u001b[0m\u001b[0m\n\u001b[1;32m      2\u001b[0m     \u001b[0mdata\u001b[0m \u001b[0;34m=\u001b[0m \u001b[0;34m[\u001b[0m\u001b[0;36m1\u001b[0m\u001b[0;34m,\u001b[0m\u001b[0;36m2\u001b[0m\u001b[0;34m,\u001b[0m\u001b[0;36m3\u001b[0m\u001b[0;34m]\u001b[0m\u001b[0;34m\u001b[0m\u001b[0;34m\u001b[0m\u001b[0m\n\u001b[0;32m----> 3\u001b[0;31m     \u001b[0mdata\u001b[0m\u001b[0;34m[\u001b[0m\u001b[0;34m'a'\u001b[0m\u001b[0;34m]\u001b[0m\u001b[0;34m\u001b[0m\u001b[0;34m\u001b[0m\u001b[0m\n\u001b[0m",
      "\u001b[0;31mTypeError\u001b[0m: list indices must be integers or slices, not str"
     ],
     "output_type": "error"
    }
   ],
   "source": [
    "with DemoManager() as nothing2:\n",
    "    data = [1,2,3]\n",
    "    data['a']  # 抛出异常 TypeError"
   ]
  },
  {
   "cell_type": "code",
   "execution_count": null,
   "metadata": {},
   "outputs": [],
   "source": []
  },
  {
   "cell_type": "code",
   "execution_count": null,
   "metadata": {},
   "outputs": [],
   "source": [
    "# 异步编写文件，with上下文管理\n",
    "# 大多数情况下，我们希望通过向多个网站发出请求来收集数据。由于许多原因，简单地打印出响应HTML代码是不合适的。\n",
    "# 相反，我们将返回的HTML代码写入输出文件。实质上，这个过程是异步下载，它实际上是在流行的下载管理器的底层架构中实现的。\n",
    "# 为此，我们将结合aiohttp和asyncio使用aiofiles模块，它有助于异步文件编写过程。\n",
    "\n",
    "import aiofiles\n",
    "import os\n",
    "\n",
    "async def download_html(session, url):\n",
    "    async with session.get(url, ssl=False) as res:\n",
    "        filename = f'output_{os.path.basename(url)}.html'\n",
    "\n",
    "        async with aiofiles.open(filename, 'wb') as f:\n",
    "            while True:\n",
    "                chunk = await res.content.read(1024)\n",
    "                if not chunk:\n",
    "                    break\n",
    "                await f.write(chunk)\n",
    "\n",
    "        return await res.release()\n",
    "\n",
    "# 为了便于异步文件写入，我们使用aiofiles中的异步open（）函数来读取上下文管理器中的文件。\n",
    "# 我们还使用read（）函数异步读取块中返回的HTML，用于响应对象的content属性。这意味着在读取当前响应的1024个字节后，\n",
    "# 执行流将被释放回事件循环并且将发生任务切换事件。"
   ]
  },
  {
   "cell_type": "code",
   "execution_count": null,
   "metadata": {},
   "outputs": [],
   "source": []
  },
  {
   "cell_type": "code",
   "execution_count": null,
   "metadata": {},
   "outputs": [],
   "source": []
  },
  {
   "cell_type": "code",
   "execution_count": null,
   "metadata": {},
   "outputs": [],
   "source": []
  },
  {
   "cell_type": "code",
   "execution_count": null,
   "metadata": {},
   "outputs": [],
   "source": []
  },
  {
   "cell_type": "code",
   "execution_count": null,
   "metadata": {},
   "outputs": [],
   "source": []
  },
  {
   "cell_type": "code",
   "execution_count": null,
   "metadata": {},
   "outputs": [],
   "source": []
  },
  {
   "cell_type": "code",
   "execution_count": null,
   "metadata": {},
   "outputs": [],
   "source": []
  },
  {
   "cell_type": "code",
   "execution_count": null,
   "metadata": {},
   "outputs": [],
   "source": []
  },
  {
   "cell_type": "code",
   "execution_count": null,
   "metadata": {},
   "outputs": [],
   "source": []
  },
  {
   "cell_type": "code",
   "execution_count": null,
   "metadata": {},
   "outputs": [],
   "source": []
  },
  {
   "cell_type": "code",
   "execution_count": 3,
   "metadata": {},
   "outputs": [],
   "source": []
  },
  {
   "cell_type": "code",
   "execution_count": null,
   "metadata": {},
   "outputs": [],
   "source": []
  },
  {
   "cell_type": "code",
   "execution_count": null,
   "metadata": {},
   "outputs": [],
   "source": []
  },
  {
   "cell_type": "code",
   "execution_count": null,
   "metadata": {},
   "outputs": [],
   "source": []
  },
  {
   "cell_type": "code",
   "execution_count": null,
   "metadata": {},
   "outputs": [],
   "source": []
  },
  {
   "cell_type": "code",
   "execution_count": null,
   "metadata": {},
   "outputs": [],
   "source": []
  },
  {
   "cell_type": "code",
   "execution_count": null,
   "metadata": {},
   "outputs": [],
   "source": []
  },
  {
   "cell_type": "code",
   "execution_count": null,
   "metadata": {},
   "outputs": [],
   "source": []
  },
  {
   "cell_type": "code",
   "execution_count": null,
   "metadata": {},
   "outputs": [],
   "source": []
  }
 ],
 "metadata": {
  "kernelspec": {
   "display_name": "Python 3",
   "language": "python",
   "name": "python3"
  },
  "language_info": {
   "codemirror_mode": {
    "name": "ipython",
    "version": 3
   },
   "file_extension": ".py",
   "mimetype": "text/x-python",
   "name": "python",
   "nbconvert_exporter": "python",
   "pygments_lexer": "ipython3",
   "version": "3.6.8"
  }
 },
 "nbformat": 4,
 "nbformat_minor": 2
}
