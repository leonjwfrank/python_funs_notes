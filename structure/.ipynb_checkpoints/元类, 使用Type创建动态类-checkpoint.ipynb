{
 "cells": [
  {
   "cell_type": "code",
   "execution_count": 1,
   "metadata": {},
   "outputs": [],
   "source": [
    "#  type可以用于自省， 判断对象的类型\n",
    "# type 也可以用来传入一些参数，然后返回一个类"
   ]
  },
  {
   "cell_type": "code",
   "execution_count": 3,
   "metadata": {},
   "outputs": [
    {
     "name": "stdout",
     "output_type": "stream",
     "text": [
      "<class '__main__.MyClass1'>\n",
      "<__main__.MyClass object at 0x10bdbbd68>\n"
     ]
    }
   ],
   "source": [
    "# 如：定义一个类\n",
    "class MyClass(object):\n",
    "    pass\n",
    "myc = type('MyClass1', (), {}) # returns a class object\n",
    "print(myc)   # 类对象\n",
    "print(MyClass())    # 实例类对象"
   ]
  },
  {
   "cell_type": "code",
   "execution_count": null,
   "metadata": {},
   "outputs": [],
   "source": [
    "# type 创建类需要三个参数\n",
    "#。  类名称\n",
    "#。  类的父类元组，会自动继承，可以为空\n",
    "#。  字典， 类的属性名和值，k-v 形式，可以为空或不传，不传当成空处理"
   ]
  },
  {
   "cell_type": "code",
   "execution_count": 4,
   "metadata": {},
   "outputs": [
    {
     "name": "stdout",
     "output_type": "stream",
     "text": [
      "<class 'int'>\n",
      "<class 'int'>\n",
      "<class 'type'>\n"
     ]
    }
   ],
   "source": [
    "# type 是元类, type 创建int 类型\n",
    "a = 3\n",
    "print(type(a))\n",
    "print(a.__class__)\n",
    "print(a.__class__.__class__)"
   ]
  },
  {
   "cell_type": "code",
   "execution_count": 8,
   "metadata": {},
   "outputs": [
    {
     "name": "stdout",
     "output_type": "stream",
     "text": [
      "<class '__main__.Foo'>\n",
      "<class '__main__.Foo'>\n",
      "<class 'type'>\n"
     ]
    }
   ],
   "source": [
    "# 自己编写一个元类\n",
    "# python会中类定义中寻找__metaclass__， 找到了py使用__metaclass__创建类\n",
    "# 没有找到使用type创建类\n",
    "# metaclass 的一个主要用途就是构建API\n",
    "class Foo(object):\n",
    "    \n",
    "    __metaclass__ = 'a'\n",
    "fo1 = Foo()\n",
    "print(type(fo1))\n",
    "print(fo1.__class__)\n",
    "print(fo1.__class__.__class__)"
   ]
  },
  {
   "cell_type": "code",
   "execution_count": null,
   "metadata": {},
   "outputs": [],
   "source": [
    "# type也是一个类，我们可以继承它.\n",
    "class UpperAttrMetaclass(type):\n",
    "        # __new__ 是在__init__之前被调用的特殊方法\n",
    "        # __new__是用来创建对象并返回这个对象\n",
    "        # 而__init__只是将传入的参数初始化给对象\n",
    "        # 实际中,你很少会用到__new__，除非你希望能够控制对象的创建\n",
    "        # 在这里，类是我们要创建的对象，我们希望能够自定义它，所以我们改写了__new__\n",
    "        # 如果你希望的话，你也可以在__init__中做些事情\n",
    "        # 还有一些高级的用法会涉及到改写__call__，但这里我们就先不这样.\n",
    "\n",
    "        def __new__(upperattr_metaclass, future_class_name,\n",
    "                    # 我们复用类type 的__new__\n",
    "                    # __new__ 总是将它要定义的类作为第一个参数\n",
    "                    future_class_parents, future_class_attr):\n",
    "\n",
    "            uppercase_attr = {}\n",
    "            for name, val in future_class_attr.items():\n",
    "                if not name.startswith('__'):\n",
    "                    uppercase_attr[name.upper()] = val\n",
    "                else:\n",
    "                    uppercase_attr[name] = val\n",
    "            return type(future_class_name, future_class_parents, uppercase_attr)\n",
    "# 这里没有使用 OOP， 我们继承type并调用 type"
   ]
  },
  {
   "cell_type": "code",
   "execution_count": 9,
   "metadata": {},
   "outputs": [],
   "source": [
    "# 使用super使代码更清晰\n",
    "class UpperAttrMetaclass(type):\n",
    "\n",
    "        def __new__(cls, clsname, bases, attrs):\n",
    "            uppercase_attr = {}\n",
    "            for name, val in attrs.items():\n",
    "                if not name.startswith('__'):\n",
    "                    uppercase_attr[name.upper()] = val\n",
    "                else:\n",
    "                    uppercase_attr[name] = val\n",
    "            return super(UpperAttrMetaclass, cls).__new__(cls, clsname, bases, attrs)"
   ]
  },
  {
   "cell_type": "code",
   "execution_count": null,
   "metadata": {},
   "outputs": [],
   "source": []
  }
 ],
 "metadata": {
  "kernelspec": {
   "display_name": "Python 3",
   "language": "python",
   "name": "python3"
  },
  "language_info": {
   "codemirror_mode": {
    "name": "ipython",
    "version": 3
   },
   "file_extension": ".py",
   "mimetype": "text/x-python",
   "name": "python",
   "nbconvert_exporter": "python",
   "pygments_lexer": "ipython3",
   "version": "3.6.8"
  }
 },
 "nbformat": 4,
 "nbformat_minor": 2
}
