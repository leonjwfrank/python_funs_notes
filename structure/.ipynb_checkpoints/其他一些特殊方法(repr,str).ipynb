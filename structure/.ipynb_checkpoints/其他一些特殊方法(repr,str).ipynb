{
 "cells": [
  {
   "cell_type": "code",
   "execution_count": 1,
   "metadata": {},
   "outputs": [],
   "source": [
    "# __str__(self)     # 实现str(). 返回一个实例的字符串，方便人看，str 类型\n",
    "# __repr__(self)   # 实现repr().  返回一个实例的字符串，方便计算机看\n",
    "# __unicode__(self)   # 实现unicode 调用，返回unicode 类型， 与 str 都是basestring子类"
   ]
  },
  {
   "cell_type": "code",
   "execution_count": 14,
   "metadata": {},
   "outputs": [
    {
     "name": "stdout",
     "output_type": "stream",
     "text": [
      "StrDemo2\n",
      "b'StrDemo2'\n",
      "<__main__.StrDemo3 object at 0x10a7de8d0>\n",
      "b'StrDemo3'\n"
     ]
    }
   ],
   "source": [
    "# import unicode\n",
    "\n",
    "class StrDemo2:\n",
    "    \"\"\"py3.不会自动实现unicode 类, 而是 bytes 类\"\"\"\n",
    "    def __str__(self):\n",
    "        return 'StrDemo2'\n",
    "    def __bytes__(self):\n",
    "        return b'StrDemo2'\n",
    "\n",
    "class StrDemo3:\n",
    "    \"\"\"同样也不会自动实现str类\"\"\"\n",
    "    def __bytes__(self):\n",
    "        return b'StrDemo3'\n",
    "\n",
    "demo2 = StrDemo2()\n",
    "print(str(demo2))  # StrDemo2\n",
    "print( bytes(demo2))  # StrDemo2\n",
    "\n",
    "demo3 = StrDemo3()\n",
    "print( str(demo3))  # <__main__.StrDemo3 instance>\n",
    "print( bytes(demo3))  # StrDemo3  "
   ]
  },
  {
   "cell_type": "code",
   "execution_count": null,
   "metadata": {},
   "outputs": [],
   "source": [
    "# __format__.  实现 format()\n",
    "# __hash__.    实现 hash()\n",
    "#  __bool__.    实现 bool()\n",
    "# __dir__.    实现dir()\n",
    "# __sizeof__.  实现 sys.getsizeof()  返回对象大小，bytes 单位\n",
    "# __instancecheck__(self, instance)   返回实例 instance 是否该类的实例，True or False\n",
    "# __subclasscheck__(self, subclass)  实例调用issubclass(subclass ,classs) 返回 True or False ，判断subclasss是否该类子类\n",
    "# __copy__(self)  copy.copy() 返回浅复制\n",
    "# __deepcopy(self, memodict={})      copy.deepcopy()返回深复制对象\n",
    "# __call__（self，**args).  允许类的实例根函数一样表现"
   ]
  },
  {
   "cell_type": "code",
   "execution_count": 9,
   "metadata": {},
   "outputs": [],
   "source": [
    "class XClass:\n",
    "    def __call__(self, a, b):\n",
    "        return a+b\n",
    "\n",
    "def add(a, b):\n",
    "    return a+b\n"
   ]
  },
  {
   "cell_type": "code",
   "execution_count": 10,
   "metadata": {},
   "outputs": [
    {
     "name": "stdout",
     "output_type": "stream",
     "text": [
      "x(1, 2) 3\n",
      "callable(x) True\n",
      "add(1, 2) 3\n",
      "callable(add) True\n"
     ]
    }
   ],
   "source": [
    "x = XClass()\n",
    "print('x(1, 2)', x(1, 2))\n",
    "print( 'callable(x)', callable(x) ) # True\n",
    "print( 'add(1, 2)', add(1, 2))\n",
    "print( 'callable(add)', callable(add))  # True"
   ]
  },
  {
   "cell_type": "code",
   "execution_count": 11,
   "metadata": {},
   "outputs": [],
   "source": [
    "# join 方法 参看单独章节"
   ]
  },
  {
   "cell_type": "code",
   "execution_count": 12,
   "metadata": {},
   "outputs": [],
   "source": [
    "class RClass:\n",
    "    def ret_sum(self, a, b):\n",
    "        return a+b\n",
    "\n",
    "def add(a, b):\n",
    "    return a+b"
   ]
  },
  {
   "cell_type": "code",
   "execution_count": 16,
   "metadata": {},
   "outputs": [
    {
     "name": "stdout",
     "output_type": "stream",
     "text": [
      "rs 5 False False\n",
      "call x 2 3 failed\n",
      "5\n",
      "call rs 2 3 failed\n"
     ]
    },
    {
     "ename": "TypeError",
     "evalue": "'RClass' object is not callable",
     "output_type": "error",
     "traceback": [
      "\u001b[0;31m---------------------------------------------------------------------------\u001b[0m",
      "\u001b[0;31mTypeError\u001b[0m                                 Traceback (most recent call last)",
      "\u001b[0;32m<ipython-input-16-b36d90e48603>\u001b[0m in \u001b[0;36m<module>\u001b[0;34m\u001b[0m\n\u001b[1;32m      6\u001b[0m \u001b[0mprint\u001b[0m\u001b[0;34m(\u001b[0m\u001b[0mx\u001b[0m\u001b[0;34m(\u001b[0m\u001b[0;36m2\u001b[0m\u001b[0;34m,\u001b[0m \u001b[0;36m3\u001b[0m\u001b[0;34m)\u001b[0m\u001b[0;34m)\u001b[0m\u001b[0;34m\u001b[0m\u001b[0;34m\u001b[0m\u001b[0m\n\u001b[1;32m      7\u001b[0m \u001b[0mprint\u001b[0m\u001b[0;34m(\u001b[0m\u001b[0;34m'call rs 2 3 failed'\u001b[0m\u001b[0;34m,\u001b[0m\u001b[0;34m)\u001b[0m\u001b[0;34m\u001b[0m\u001b[0;34m\u001b[0m\u001b[0m\n\u001b[0;32m----> 8\u001b[0;31m \u001b[0mprint\u001b[0m\u001b[0;34m(\u001b[0m \u001b[0mr1\u001b[0m\u001b[0;34m(\u001b[0m\u001b[0;36m2\u001b[0m\u001b[0;34m,\u001b[0m \u001b[0;36m3\u001b[0m\u001b[0;34m)\u001b[0m \u001b[0;34m)\u001b[0m\u001b[0;34m\u001b[0m\u001b[0;34m\u001b[0m\u001b[0m\n\u001b[0m",
      "\u001b[0;31mTypeError\u001b[0m: 'RClass' object is not callable"
     ]
    }
   ],
   "source": [
    "r1 = RClass()\n",
    "rs = r1.ret_sum(2,3)\n",
    "\n",
    "print('rs', rs, callable(r1), callable(rs))\n",
    "print('call x 2 3 failed',)\n",
    "print(x(2, 3))\n",
    "print('call rs 2 3 failed',)\n",
    "print( r1(2, 3) )     # 未实现call 对象不能调用\n"
   ]
  },
  {
   "cell_type": "code",
   "execution_count": null,
   "metadata": {},
   "outputs": [],
   "source": []
  }
 ],
 "metadata": {
  "kernelspec": {
   "display_name": "Python 3",
   "language": "python",
   "name": "python3"
  },
  "language_info": {
   "codemirror_mode": {
    "name": "ipython",
    "version": 3
   },
   "file_extension": ".py",
   "mimetype": "text/x-python",
   "name": "python",
   "nbconvert_exporter": "python",
   "pygments_lexer": "ipython3",
   "version": "3.6.8"
  }
 },
 "nbformat": 4,
 "nbformat_minor": 2
}
