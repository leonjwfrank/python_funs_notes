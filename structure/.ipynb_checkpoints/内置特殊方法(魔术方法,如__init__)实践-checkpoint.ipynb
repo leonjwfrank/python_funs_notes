{
 "cells": [
  {
   "cell_type": "code",
   "execution_count": null,
   "metadata": {
    "scrolled": true
   },
   "outputs": [],
   "source": [
    "\"\"\"__new__ 在创建类实例的时候肯定会调用一次\n",
    "__init__ 创建实例时就不一定调用，比如pickle.load的方式反序列化一个实例时就不会调用\n",
    "\n",
    "__del__对象生命周期结束时，会调用此方法，也称析构函数，定义的是一个对象垃圾回收时的行为\n",
    "\n",
    "比如：\n",
    "foo = Foo()\n",
    "foo.__del__()    # foo对象仍在\n",
    "print foo  # 不报错\n",
    "del foo     # foo对象回收类\n",
    "print foo  # 报错\n",
    "\n",
    "\n",
    "__getattr__(self,name)\n",
    "        #该方法定义你试图访问一个不存在的属性时的行为，因此重载该方法可以实现捕获错误然后给出你的重定向，或对一个废弃属性进行警告\n",
    "\n",
    "__setattr__(self,name,value)\n",
    "        #是实现封装的解决方案，它定义了你对属性进行赋值和修改操作的行为。不管对象的某个属性是否存在，它都允许你为该属性进行赋值，因此你可以对属性进行自定义操作，需要避免的时‘无限递归’的错误\n",
    "\n",
    "__delattr__(self,name)\n",
    "        # 定义删除属性时的行为，需要避免‘无限递归’的问题\n",
    "\n",
    "__getattribute__\n",
    "        # 定义你的属性被访问时的行为，而对比该属性不存在时，__getattr__生效\n",
    "        # 在调用__getattr__ 时，肯定会调用__getattrbute__， __getattrbute__同样需要避免无限递归\n",
    "        \n",
    "    class Foo2(object):\n",
    "        def __setattr__(self, name, value):\n",
    "            self.__dict__[name] = value\n",
    "        def __getattr__(self, *args):       # \n",
    "            return u'属性不存在: {}'.format(args)\n",
    "\n",
    "    f22 = Foo2()\n",
    "        >>> f22.name = 'Lily1'\n",
    "        >>> f22\n",
    "            <__main__.Foo2 object at 0x10ab30710>\n",
    "        >>> f22.name\n",
    "            'Lily1'\n",
    "        >>> f22.age\n",
    "            \"属性不存在: ('age',)\"\n",
    "            \n",
    "# 无限递归错误示例;\n",
    "\n",
    "        def __setattr__(self, name, value):\n",
    "                # 在python3 这里会报错递归错误，调用对象时超出最大递归深度RecursionError: maximum recursion depth exceeded while calling a Python object\n",
    "                self.name = value  # 每一次被赋值时，__setattr__都会被调用，因此不断调用自身导致无限递归\n",
    "                \n",
    "        # 修正写法\n",
    "        def __setattr__(self,name,value):\n",
    "                self.__dict__[name] = value\n",
    "        \n",
    "        __delattr__ 如果实现中出现 del self.name这样的代码也会出现无限递归错误\"\"\""
   ]
  },
  {
   "cell_type": "code",
   "execution_count": 2,
   "metadata": {},
   "outputs": [],
   "source": [
    "class access(object):\n",
    "    def __getattr__(self, name):\n",
    "        print('__getattr__')\n",
    "        return super(access, self).__getattr__(name)\n",
    "    def __setattr__(self,name,value):\n",
    "        print('__setattr__')\n",
    "        return super(access, self).__setattr__(name,value)\n",
    "    def __delattr__(self, name):\n",
    "        print('__delattr__')\n",
    "        return super(access, self).__delattr__(name)\n",
    "    def __getattribute(self,name):\n",
    "        print('__getattribute__')\n",
    "        return super(access, self).__getattribute__(name)"
   ]
  },
  {
   "cell_type": "code",
   "execution_count": 4,
   "metadata": {},
   "outputs": [
    {
     "name": "stdout",
     "output_type": "stream",
     "text": [
      "__setattr__\n"
     ]
    },
    {
     "data": {
      "text/plain": [
       "True"
      ]
     },
     "execution_count": 4,
     "metadata": {},
     "output_type": "execute_result"
    }
   ],
   "source": [
    "acce = access()\n",
    "acce.attr1  = True #__setattr__调用\n",
    "acce.attr1   # 属性存在"
   ]
  },
  {
   "cell_type": "code",
   "execution_count": 6,
   "metadata": {},
   "outputs": [
    {
     "name": "stdout",
     "output_type": "stream",
     "text": [
      "__getattr__\n",
      "e1:'super' object has no attribute '__getattr__'\n"
     ]
    }
   ],
   "source": [
    "try:\n",
    "    acce.attr2 # 属性不存在，先调__getattribute__,后调用__getattr__\n",
    "except (BaseException,AttributeError) as e1:\n",
    "    print('error:{}'.format(e1))"
   ]
  },
  {
   "cell_type": "code",
   "execution_count": 9,
   "metadata": {},
   "outputs": [
    {
     "name": "stdout",
     "output_type": "stream",
     "text": [
      "__delattr__\n"
     ]
    },
    {
     "ename": "AttributeError",
     "evalue": "attr1",
     "traceback": [
      "\u001b[0;31m---------------------------------------------------------------------------\u001b[0m",
      "\u001b[0;31mAttributeError\u001b[0m                            Traceback (most recent call last)",
      "\u001b[0;32m<ipython-input-9-a9654926160d>\u001b[0m in \u001b[0;36m<module>\u001b[0;34m\u001b[0m\n\u001b[0;32m----> 1\u001b[0;31m \u001b[0;32mdel\u001b[0m \u001b[0macce\u001b[0m\u001b[0;34m.\u001b[0m\u001b[0mattr1\u001b[0m \u001b[0;31m# __delattr__调用\u001b[0m\u001b[0;34m\u001b[0m\u001b[0;34m\u001b[0m\u001b[0m\n\u001b[0m\u001b[1;32m      2\u001b[0m \u001b[0macce\u001b[0m\u001b[0;34m.\u001b[0m\u001b[0mattr1\u001b[0m\u001b[0;34m\u001b[0m\u001b[0;34m\u001b[0m\u001b[0m\n",
      "\u001b[0;32m<ipython-input-2-a4cbefdec58c>\u001b[0m in \u001b[0;36m__delattr__\u001b[0;34m(self, name)\u001b[0m\n\u001b[1;32m      8\u001b[0m     \u001b[0;32mdef\u001b[0m \u001b[0m__delattr__\u001b[0m\u001b[0;34m(\u001b[0m\u001b[0mself\u001b[0m\u001b[0;34m,\u001b[0m \u001b[0mname\u001b[0m\u001b[0;34m)\u001b[0m\u001b[0;34m:\u001b[0m\u001b[0;34m\u001b[0m\u001b[0;34m\u001b[0m\u001b[0m\n\u001b[1;32m      9\u001b[0m         \u001b[0mprint\u001b[0m\u001b[0;34m(\u001b[0m\u001b[0;34m'__delattr__'\u001b[0m\u001b[0;34m)\u001b[0m\u001b[0;34m\u001b[0m\u001b[0;34m\u001b[0m\u001b[0m\n\u001b[0;32m---> 10\u001b[0;31m         \u001b[0;32mreturn\u001b[0m \u001b[0msuper\u001b[0m\u001b[0;34m(\u001b[0m\u001b[0maccess\u001b[0m\u001b[0;34m,\u001b[0m \u001b[0mself\u001b[0m\u001b[0;34m)\u001b[0m\u001b[0;34m.\u001b[0m\u001b[0m__delattr__\u001b[0m\u001b[0;34m(\u001b[0m\u001b[0mname\u001b[0m\u001b[0;34m)\u001b[0m\u001b[0;34m\u001b[0m\u001b[0;34m\u001b[0m\u001b[0m\n\u001b[0m\u001b[1;32m     11\u001b[0m     \u001b[0;32mdef\u001b[0m \u001b[0m__getattribute\u001b[0m\u001b[0;34m(\u001b[0m\u001b[0mself\u001b[0m\u001b[0;34m,\u001b[0m\u001b[0mname\u001b[0m\u001b[0;34m)\u001b[0m\u001b[0;34m:\u001b[0m\u001b[0;34m\u001b[0m\u001b[0;34m\u001b[0m\u001b[0m\n\u001b[1;32m     12\u001b[0m         \u001b[0mprint\u001b[0m\u001b[0;34m(\u001b[0m\u001b[0;34m'__getattribute__'\u001b[0m\u001b[0;34m)\u001b[0m\u001b[0;34m\u001b[0m\u001b[0;34m\u001b[0m\u001b[0m\n",
      "\u001b[0;31mAttributeError\u001b[0m: attr1"
     ],
     "output_type": "error"
    }
   ],
   "source": [
    "del acce.attr1 # __delattr__调用\n",
    "acce.attr1"
   ]
  },
  {
   "cell_type": "code",
   "execution_count": 9,
   "metadata": {},
   "outputs": [],
   "source": [
    "            \n",
    "# 无限递归错误示例;\n",
    "\n",
    "def __setattr__(self, name, value):\n",
    "        # 在python3 这里会报错递归错误，调用对象时超出最大递归深度RecursionError: maximum recursion depth exceeded while calling a Python object\n",
    "        self.name = value  # 每一次被赋值时，__setattr__都会被调用，因此不断调用自身导致无限递归\n",
    "\n",
    "# 修正写法\n",
    "def __setattr__(self,name,value):\n",
    "        self.__dict__[name] = value\n",
    "\n"
   ]
  },
  {
   "cell_type": "code",
   "execution_count": 10,
   "metadata": {},
   "outputs": [
    {
     "name": "stdout",
     "output_type": "stream",
     "text": [
      "<__main__.Foo2 object at 0x109dad668>\n",
      "Lily1\n",
      "属性不存在: ('age',)\n"
     ]
    }
   ],
   "source": [
    "#__delattr__ 如果实现中出现 del self.name这样的代码也会出现无限递归错误\n",
    "class Foo2(object):\n",
    "        def __setattr__(self, name, value):\n",
    "                self.__dict__[name] = value\n",
    "        def __getattr__(self, *args):       # \n",
    "                return u'属性不存在: {}'.format(args)\n",
    "\n",
    "f22 = Foo2()\n",
    "f22.name = 'Lily1'\n",
    "print(f22)\n",
    "# <__main__.Foo2 object at 0x10ab30710>\n",
    "print(f22.name)\n",
    "#'Lily1'\n",
    "print(f22.age)\n",
    "# \"属性不存在: ('age',)\""
   ]
  },
  {
   "cell_type": "code",
   "execution_count": null,
   "metadata": {},
   "outputs": [],
   "source": []
  }
 ],
 "metadata": {
  "kernelspec": {
   "display_name": "Python 3",
   "language": "python",
   "name": "python3"
  },
  "language_info": {
   "codemirror_mode": {
    "name": "ipython",
    "version": 3
   },
   "file_extension": ".py",
   "mimetype": "text/x-python",
   "name": "python",
   "nbconvert_exporter": "python",
   "pygments_lexer": "ipython3",
   "version": "3.6.8"
  }
 },
 "nbformat": 4,
 "nbformat_minor": 2
}
