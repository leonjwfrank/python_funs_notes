{
 "cells": [
  {
   "cell_type": "code",
   "execution_count": 1,
   "metadata": {},
   "outputs": [],
   "source": [
    "# 基本数据类的操作string, list, tuple, dict, sets\n",
    "# map,  reduce， filter\n",
    "# 概念：\n",
    "#   lambda   操作者 operator\n",
    "#  map,  reduce， filter   返回的是可迭代对象"
   ]
  },
  {
   "cell_type": "code",
   "execution_count": 112,
   "metadata": {},
   "outputs": [
    {
     "data": {
      "text/plain": [
       "[33.8, 35.6, 39.2, 41.0, 37.4, 71.6, 91.4, 73.4, 127.4, 146.84]"
      ]
     },
     "execution_count": 112,
     "metadata": {},
     "output_type": "execute_result"
    }
   ],
   "source": [
    "# 序列解析，序列是可以迭代对象， []. (). {} sets 都可以\n",
    "\n",
    "[(float(9)/5*x + 32) for x in [1,2,4,5,3,22,33,23,53,63.8]]\n"
   ]
  },
  {
   "cell_type": "code",
   "execution_count": 113,
   "metadata": {},
   "outputs": [
    {
     "data": {
      "text/plain": [
       "{2,\n",
       " 3,\n",
       " 5,\n",
       " 7,\n",
       " 11,\n",
       " 13,\n",
       " 17,\n",
       " 19,\n",
       " 23,\n",
       " 29,\n",
       " 31,\n",
       " 37,\n",
       " 41,\n",
       " 43,\n",
       " 47,\n",
       " 53,\n",
       " 59,\n",
       " 61,\n",
       " 67,\n",
       " 71,\n",
       " 73,\n",
       " 79,\n",
       " 83,\n",
       " 89,\n",
       " 97}"
      ]
     },
     "execution_count": 113,
     "metadata": {},
     "output_type": "execute_result"
    }
   ],
   "source": [
    "# 序列解析复杂示例\n",
    "from math import sqrt\n",
    "n = 100\n",
    "sqrt_n = int(sqrt(n))\n",
    "no_primes = {j for i in range(2, sqrt_n+1) for j in range(i*2, n, i)}\n",
    "\n",
    "{i for i in range(2, n) if i not in no_primes}"
   ]
  },
  {
   "cell_type": "code",
   "execution_count": null,
   "metadata": {},
   "outputs": [],
   "source": [
    "#  内置函数 filter 返回一个迭代器，它只包含test函数返回true的项。\n",
    "\"\"\"在python3中有些变化：lambda，map（）和filter（）仍然是核心Python的一部分。\n",
    "reduce（）它进入了functools模块，必须从functools中调用。\n",
    "为什么reduce 被移除，除了lambda，filter，map和reduce之外，还有一个同样强大的替代方法，即列表理解\n",
    "列表理解更明显，更容易理解\n",
    "同时具有列表理解和“过滤，映射，缩减和lambda”是违反Python的座右铭“应该有一个明显的方法来解决问题”\n",
    "\"\"\""
   ]
  },
  {
   "cell_type": "code",
   "execution_count": null,
   "metadata": {},
   "outputs": [],
   "source": [
    "# lambda 操作示例，快速定一个即时使用即时销毁的函数\n",
    "# sum = lambda x, y : x + y\n",
    "# sum(3,4)\n",
    "     # 7\n",
    "# lambda argument_list: expression\n",
    "# 参数列表由逗号分隔的参数列表组成，表达式是使用这些参数的算术表达式。您可以将函数分配给变量以为其指定名称。"
   ]
  },
  {
   "cell_type": "code",
   "execution_count": 100,
   "metadata": {},
   "outputs": [
    {
     "name": "stdout",
     "output_type": "stream",
     "text": [
      "[102.56, 97.7, 99.14, 100.4, 100.03999999999999]\n",
      "[39.2, 36.5, 37.300000000000004, 38.00000000000001, 37.8]\n"
     ]
    }
   ],
   "source": [
    "\n",
    "C = [39.2, 36.5, 37.3, 38, 37.8] \n",
    "F = list(map(lambda x: (float(9)/5)*x + 32, C))\n",
    "print(F)\n",
    "[102.56, 97.7, 99.14, 100.4, 100.03999999999999]\n",
    "C = list(map(lambda x: (float(5)/9)*(x-32), F))\n",
    "print(C)"
   ]
  },
  {
   "cell_type": "code",
   "execution_count": 104,
   "metadata": {},
   "outputs": [
    {
     "name": "stdout",
     "output_type": "stream",
     "text": [
      "[18, 14, 14, 14]\n",
      "[17, 10, 19, 23]\n",
      "[37.5, 33.0, 24.5, 21.0]\n",
      "[37.5, 33.0, 24.5]\n"
     ]
    }
   ],
   "source": [
    "a = [1, 2, 3, 4]\n",
    "b = [17, 12, 11, 10]\n",
    "c = [-1, -4, 5, 9]\n",
    "print(list(map(lambda x, y : x+y, a, b)))\n",
    "#[18, 14, 14, 14]\n",
    "print(list(map(lambda x, y, z : x+y+z, a, b, c)))\n",
    "#[17, 10, 19, 23]\n",
    "print(list(map(lambda x, y, z : 2.5*x + 2*y - z, a, b, c)))\n",
    "#[37.5, 33.0, 24.5, 21.0]\n",
    "\n",
    "# 如果 对多个队列进行操作，map将在较短的队列结束后终止\n",
    "a = [1, 2, 3]\n",
    "print(list(map(lambda x, y, z : 2.5*x + 2*y - z, a, b, c)))"
   ]
  },
  {
   "cell_type": "code",
   "execution_count": null,
   "metadata": {},
   "outputs": [],
   "source": []
  },
  {
   "cell_type": "code",
   "execution_count": null,
   "metadata": {},
   "outputs": [],
   "source": []
  },
  {
   "cell_type": "code",
   "execution_count": 18,
   "metadata": {},
   "outputs": [
    {
     "name": "stdout",
     "output_type": "stream",
     "text": [
      "type <class 'filter'>\n",
      "if x bigger: -1\n",
      "if x bigger: 5\n",
      "if x bigger: 44555\n",
      "filter i: 44555\n",
      "if x bigger: 22\n",
      "filter i: 22\n",
      "if x bigger: -21\n",
      "if x bigger: 2\n",
      "if x bigger: 1\n",
      "if x bigger: 3\n",
      "if x bigger: 4\n"
     ]
    }
   ],
   "source": [
    "\n",
    "def check_item(x):\n",
    "        print('if x bigger:', x)\n",
    "        return x>5\n",
    "gen_f = filter(check_item, [-1, 5, 44555, 22, -21, 2,1,3,4])\n",
    "\n",
    "\n",
    "print('type', type(gen_f))\n",
    "for i in gen_f:\n",
    "    print('filter i:', i)"
   ]
  },
  {
   "cell_type": "code",
   "execution_count": 57,
   "metadata": {},
   "outputs": [
    {
     "name": "stdout",
     "output_type": "stream",
     "text": [
      "gen_l <class 'filter'> <filter object at 0x1084ee048>\n",
      "[-1, 5, 44555, -21, 2, 1, 3, 4]\n"
     ]
    }
   ],
   "source": [
    "gen_l = filter(lambda x:x*2, [-1, 5, 44555, 0, -21, 2,1,3,4])   # lambda返回肯定为True，除了 0 值\n",
    "print('gen_l', type(gen_l), gen_l) \n",
    "print(list(gen_l))"
   ]
  },
  {
   "cell_type": "code",
   "execution_count": 59,
   "metadata": {},
   "outputs": [
    {
     "name": "stdout",
     "output_type": "stream",
     "text": [
      "gen_fa <class 'itertools.filterfalse'> <itertools.filterfalse object at 0x1084ee160>\n",
      "[0]\n"
     ]
    }
   ],
   "source": [
    "gen_fa = itertools.filterfalse(lambda x:x*2, [-1, 5, 44555, 0, -21, 2,1,3,4])   # 只有一个 0 符号lambda false\n",
    "print('gen_fa', type(gen_fa), gen_fa) \n",
    "print(list(gen_fa))"
   ]
  },
  {
   "cell_type": "code",
   "execution_count": 21,
   "metadata": {},
   "outputs": [
    {
     "name": "stdout",
     "output_type": "stream",
     "text": [
      "ff <itertools.filterfalse object at 0x10841aa90>\n",
      "if x bigger: -1\n"
     ]
    },
    {
     "data": {
      "text/plain": [
       "-1"
      ]
     },
     "execution_count": 21,
     "metadata": {},
     "output_type": "execute_result"
    }
   ],
   "source": [
    "import itertools\n",
    "gen_ff = itertools.filterfalse(check_item, [-1, 5, 44555, 22, -21, 2,1,3,4])\n",
    "print('ff', gen_ff)\n",
    "next(gen_ff)"
   ]
  },
  {
   "cell_type": "code",
   "execution_count": 23,
   "metadata": {},
   "outputs": [],
   "source": [
    "# reduce  规约\n",
    "# reduce（）函数将可调用数据和数据序列作为输入。它基于使用序列中的值调用callable并累积结果输出，从而生成单个值作为输出。\n",
    "def do_reduce(a, b):\n",
    "    print('reduce a {}, b {}'.format(a, b))\n",
    "    return a + b\n",
    "\n",
    "data = range(1, 5)\n"
   ]
  },
  {
   "cell_type": "code",
   "execution_count": 25,
   "metadata": {},
   "outputs": [
    {
     "name": "stdout",
     "output_type": "stream",
     "text": [
      "reduce a 1, b 2\n",
      "reduce a 3, b 3\n",
      "reduce a 6, b 4\n",
      "rest:10\n"
     ]
    }
   ],
   "source": [
    "\n",
    "import functools\n",
    "rest = functools.reduce(do_reduce, data)     # 1+2+3+4+5 累加 1 到 5 的值并输出 结果\n",
    "print('rest:{}'.format(rest))"
   ]
  },
  {
   "cell_type": "code",
   "execution_count": 111,
   "metadata": {},
   "outputs": [
    {
     "name": "stdout",
     "output_type": "stream",
     "text": [
      "data range(1, 5)\n",
      "rest:<function lamb.<locals>.<lambda> at 0x108791400> <class 'function'>\n",
      "rest:<function lamb.<locals>.<lambda> at 0x108791400>\n"
     ]
    }
   ],
   "source": [
    "def lamb(x,b):\n",
    "    return lambda x, b : x  +  b*2\n",
    "rest1 = functools.reduce(lamb, data)     # 输出最小的那个\n",
    "print('data',data)\n",
    "print('rest:{}'.format(rest1), type(rest1))\n",
    "print('rest:{}'.format(rest1)) \n"
   ]
  },
  {
   "cell_type": "code",
   "execution_count": 87,
   "metadata": {},
   "outputs": [
    {
     "name": "stdout",
     "output_type": "stream",
     "text": [
      "0 * 5 = 0\n",
      "1 * 6 = 6\n",
      "2 * 7 = 14\n",
      "3 * 8 = 24\n",
      "4 * 9 = 36\n"
     ]
    }
   ],
   "source": [
    "from itertools import *\n",
    "values = [(0, 5), (1, 6), (2, 7), (3, 8), (4, 9)]\n",
    "for i in starmap(lambda x, y: (x, y, x * y), values): \n",
    "    print('{} * {} = {}'.format(*i))"
   ]
  },
  {
   "cell_type": "code",
   "execution_count": null,
   "metadata": {},
   "outputs": [],
   "source": []
  },
  {
   "cell_type": "code",
   "execution_count": 28,
   "metadata": {},
   "outputs": [
    {
     "name": "stdout",
     "output_type": "stream",
     "text": [
      "reduce a 1, b 2\n",
      "reduce a 3, b 3\n",
      "reduce a 6, b 4\n",
      "reduce a 10, b 5\n",
      "reduce a 15, b 6\n",
      "reduce a 21, b 7\n",
      "reduce a 28, b 8\n",
      "reduce a 36, b 9\n",
      "reduce a 45, b 10\n",
      "55\n"
     ]
    }
   ],
   "source": [
    "data_tuple = (1,2,3,4,5,6,7,8,9,10)\n",
    "rest_t = functools.reduce(do_reduce, data_tuple)\n",
    "print(rest_t)"
   ]
  },
  {
   "cell_type": "code",
   "execution_count": 40,
   "metadata": {},
   "outputs": [
    {
     "name": "stdout",
     "output_type": "stream",
     "text": [
      "reduce a a, b a1\n",
      "reduce a aa1, b a11\n",
      "reduce a aa1a11, b a111\n",
      "{'a': 22, 'a1': 11, 'a11': 111, 'a111': 1111}\n",
      "aa1a11a111\n",
      "--------------------\n",
      "reduce a ('a', 22), b ('a1', 11)\n",
      "reduce a ('a', 22, 'a1', 11), b ('a11', 111)\n",
      "reduce a ('a', 22, 'a1', 11, 'a11', 111), b ('a111', 1111)\n",
      "dict_items([('a', 22), ('a1', 11), ('a11', 111), ('a111', 1111)])\n",
      "('a', 22, 'a1', 11, 'a11', 111, 'a111', 1111)\n"
     ]
    }
   ],
   "source": [
    "dic_s = {'a':1,'a1':11,'a11':111,'a111':1111, 'a':22}  # 可以定义成功，不会报错，但是 只有一个key . 'a'\n",
    "rest_sets = functools.reduce(do_reduce, dic_s)    # 传入字典，默认规约 key键\n",
    "print(dic_s)\n",
    "print(rest_sets)\n",
    "\n",
    "print(\"--\" * 10)     # 分割线\n",
    "rest_sets = functools.reduce(do_reduce, dic_s.items())    # 传入字典items列表，多个列表默认规约为一个列表\n",
    "print(dic_s.items())\n",
    "print(rest_sets)"
   ]
  },
  {
   "cell_type": "code",
   "execution_count": 37,
   "metadata": {},
   "outputs": [
    {
     "name": "stdout",
     "output_type": "stream",
     "text": [
      "reduce a 8, b 9\n",
      "reduce a 17, b 10\n",
      "reduce a 27, b 11\n",
      "reduce a 38, b 12\n",
      "reduce a 50, b 13\n",
      "{8, 9, 10, 11, 12, 13}\n",
      "63\n"
     ]
    }
   ],
   "source": [
    "data_sets = {8,9,8,9,10,11,12,13}  # 等价于sets  {8,9,10,11,12,13}\n",
    "rest_sets = functools.reduce(do_reduce, data_sets)\n",
    "print(data_sets)\n",
    "print(rest_sets)"
   ]
  },
  {
   "cell_type": "code",
   "execution_count": null,
   "metadata": {},
   "outputs": [],
   "source": [
    "# map 映射\n",
    "# 将一个序列分别作用与一个函数后，返回一个序列"
   ]
  },
  {
   "cell_type": "code",
   "execution_count": 41,
   "metadata": {},
   "outputs": [
    {
     "name": "stdout",
     "output_type": "stream",
     "text": [
      "<class 'map'> <map object at 0x1084e6c88>\n",
      "[1, 2, 3, 4, 5, 6, 7, 8, 9, 10]\n"
     ]
    }
   ],
   "source": [
    "lim = map(lambda x:x+1, range(0,10))   # 将 0～9数字加1\n",
    "print(type(lim), lim)\n",
    "print(list(lim))"
   ]
  },
  {
   "cell_type": "code",
   "execution_count": 50,
   "metadata": {},
   "outputs": [
    {
     "name": "stdout",
     "output_type": "stream",
     "text": [
      "[1, 1, 2, 3, 5, 8, 13, 21, 34]\n",
      "<class 'map'> <map object at 0x1084ee860>\n",
      "map value [1, 2, 3, 5, 21, 34, 317811]\n"
     ]
    }
   ],
   "source": [
    "def fb(n):\n",
    "    if n <=2:\n",
    "        return 1\n",
    "    else:\n",
    "        return fb(n-2) + fb(n-1)\n",
    "limx = map(fb, range(1,10))      # 作用于一个列表，并返回一个列表\n",
    "print(list(limx))\n",
    "limt = map(fb, {1,8,8,9,1,28,3,4,5})      # 作用于一个集合，并返回一个列表, 该列表为 fb 数列的第几个元素\n",
    "print(type(limt), limt)\n",
    "print('map value', list(limt))"
   ]
  },
  {
   "cell_type": "code",
   "execution_count": 53,
   "metadata": {},
   "outputs": [
    {
     "name": "stdout",
     "output_type": "stream",
     "text": [
      "<class 'map'> <map object at 0x1084ee1d0>\n",
      "map value [1, 21, 21, 34, 317811]\n"
     ]
    }
   ],
   "source": [
    "limd = map(fb, {'a':1,'b':8,'c':8,'d':9,'e':28}.values())      # 作用于一个集合，并返回一个列表, 该列表为 fb 数列的第几个元素\n",
    "print(type(limd), limd)\n",
    "print('map value', list(limd))"
   ]
  },
  {
   "cell_type": "code",
   "execution_count": 96,
   "metadata": {},
   "outputs": [
    {
     "name": "stdout",
     "output_type": "stream",
     "text": [
      " <class 'itertools.repeat'> ['__class__', '__delattr__', '__dir__', '__doc__', '__eq__', '__format__', '__ge__', '__getattribute__', '__gt__', '__hash__', '__init__', '__init_subclass__', '__iter__', '__le__', '__length_hint__', '__lt__', '__ne__', '__new__', '__next__', '__reduce__', '__reduce_ex__', '__repr__', '__setattr__', '__sizeof__', '__str__', '__subclasshook__'] repeat(2)\n",
      "2 * 0 = 0\n",
      "2 * 1 = 2\n",
      "2 * 2 = 4\n",
      "2 * 3 = 6\n",
      "2 * 4 = 8\n"
     ]
    }
   ],
   "source": [
    "from itertools import *\n",
    "print('', type(repeat(2)), dir(repeat(2)), repeat(2))\n",
    "for i in map(lambda x, y: (x, y, x * y), repeat(2), range(5)): print('{:d} * {:d} = {:d}'.format(*i))"
   ]
  },
  {
   "cell_type": "code",
   "execution_count": 90,
   "metadata": {},
   "outputs": [
    {
     "name": "stdout",
     "output_type": "stream",
     "text": [
      "a = -1\n",
      "b = 5\n",
      "\n",
      "not_(a) False\n",
      "truth(a) True\n",
      "is_(a, b) False\n",
      "is_not(a, b): True\n"
     ]
    }
   ],
   "source": [
    "from operator import *\n",
    "a = -1 \n",
    "b=5\n",
    "print('a =', a)\n",
    "print('b =', b)\n",
    "print()\n",
    "print('not_(a)',not_(a))\n",
    "print('truth(a)', truth(a))\n",
    "print('is_(a, b)', is_(a,b))\n",
    "print('is_not(a, b):', is_not(a, b))"
   ]
  },
  {
   "cell_type": "code",
   "execution_count": null,
   "metadata": {},
   "outputs": [],
   "source": []
  },
  {
   "cell_type": "code",
   "execution_count": 22,
   "metadata": {},
   "outputs": [
    {
     "name": "stdout",
     "output_type": "stream",
     "text": [
      "First 10 bytes via read : b'.. nice_no'\n",
      "First 10 bytes via slice: b'.. nice_no'\n",
      "2nd   10 bytes via read : b'tes docume'\n"
     ]
    }
   ],
   "source": [
    "import mmap    # 内存文件读取\n",
    "with open('index.rst', 'r') as f:\n",
    "        with mmap.mmap(f.fileno(), 0,access=mmap.ACCESS_READ) as m:\n",
    "            print('First 10 bytes via read :', m.read(10))\n",
    "            print('First 10 bytes via slice:', m[:10])\n",
    "            print('2nd   10 bytes via read :', m.read(10))"
   ]
  },
  {
   "cell_type": "code",
   "execution_count": null,
   "metadata": {},
   "outputs": [],
   "source": []
  },
  {
   "cell_type": "code",
   "execution_count": null,
   "metadata": {},
   "outputs": [],
   "source": []
  },
  {
   "cell_type": "code",
   "execution_count": 1,
   "metadata": {},
   "outputs": [],
   "source": [
    "import collections\n",
    "\"\"\"ChainMap存储在其maps属性中的列表中搜索的映射列表。此列表是可变的，因此可以直接添加新映射或更改元素的顺序以控制查找和更新行为。\"\"\""
   ]
  },
  {
   "cell_type": "code",
   "execution_count": 2,
   "metadata": {},
   "outputs": [
    {
     "name": "stdout",
     "output_type": "stream",
     "text": [
      "[{'a': 'A', 'c': 'C'}, {'b': 'B', 'c': 'D'}]\n",
      "c = C\n",
      "\n",
      "[{'b': 'B', 'c': 'D'}, {'a': 'A', 'c': 'C'}]\n",
      "c = D\n"
     ]
    }
   ],
   "source": [
    "a = {'a': 'A', 'c': 'C'}\n",
    "b = {'b': 'B', 'c': 'D'}\n",
    "m = collections.ChainMap(a, b)\n",
    "print(m.maps)\n",
    "print('c = {}\\n'.format(m['c']))\n",
    "# Reverse the list.\n",
    "m.maps = list(reversed(m.maps))\n",
    "print(m.maps)\n",
    "print('c = {}'.format(m['c']))"
   ]
  },
  {
   "cell_type": "code",
   "execution_count": null,
   "metadata": {},
   "outputs": [],
   "source": []
  }
 ],
 "metadata": {
  "kernelspec": {
   "display_name": "Python 3",
   "language": "python",
   "name": "python3"
  },
  "language_info": {
   "codemirror_mode": {
    "name": "ipython",
    "version": 3
   },
   "file_extension": ".py",
   "mimetype": "text/x-python",
   "name": "python",
   "nbconvert_exporter": "python",
   "pygments_lexer": "ipython3",
   "version": "3.6.8"
  }
 },
 "nbformat": 4,
 "nbformat_minor": 2
}
