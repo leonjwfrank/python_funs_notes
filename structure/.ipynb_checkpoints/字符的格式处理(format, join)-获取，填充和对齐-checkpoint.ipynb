{
 "cells": [
  {
   "cell_type": "code",
   "execution_count": 6,
   "metadata": {},
   "outputs": [
    {
     "name": "stdout",
     "output_type": "stream",
     "text": [
      "123\n",
      "God\n",
      "123 God\n"
     ]
    }
   ],
   "source": [
    "# 格式处理 format\n",
    "# python2 中常用的字符处理方式为 c 语言的方式\n",
    "print('%d' % (123))\n",
    "print('%s' % ('God'))\n",
    "\n",
    "# 其他截取和方法就不做介绍了\n",
    "print('{} {}'.format(123, 'God'))"
   ]
  },
  {
   "cell_type": "code",
   "execution_count": 5,
   "metadata": {},
   "outputs": [
    {
     "name": "stdout",
     "output_type": "stream",
     "text": [
      "str. repr\n",
      "str repr\n"
     ]
    }
   ],
   "source": [
    "\"\"\"新式简单格式化程序默认调用对象的__format __（）方法进行表示。如果您只想渲染str（...）或repr（...）的输出，可以使用！s或！r转换标志。\n",
    "\n",
    "在％-style中，您通常使用％s作为字符串表示，但是％r用于repr（...）转换。\"\"\"\n",
    "class Data(object):\n",
    "\tdef __str__(self):\n",
    "\t\treturn 'str'\n",
    "\tdef __repr__(self):\n",
    "\t\treturn 'repr'\n",
    "\n",
    "# 旧有的方式\n",
    "print('%s. %r' %(Data(), Data()))\n",
    "# format方式\n",
    "print('{0!s} {0!r}'.format(Data()))"
   ]
  },
  {
   "cell_type": "code",
   "execution_count": 7,
   "metadata": {},
   "outputs": [
    {
     "name": "stdout",
     "output_type": "stream",
     "text": [
      "repr repr\n",
      "repr repr\n"
     ]
    }
   ],
   "source": [
    "# 在Python 3中，存在一个额外的转换标志，它使用repr（...）的输出，但使用ascii（...）代替。\n",
    "print('%r %a' % (Data(), Data()))\n",
    "print('{0!r} {0!a}'.format(Data()))"
   ]
  },
  {
   "cell_type": "code",
   "execution_count": 14,
   "metadata": {},
   "outputs": [
    {
     "name": "stdout",
     "output_type": "stream",
     "text": [
      "      test\n",
      "test      \n",
      "      test\n",
      "------------------------------\n",
      "test      \n",
      "      test\n",
      "test      \n",
      "   test   \n"
     ]
    }
   ],
   "source": [
    "\"\"\"默认情况下，值的格式设置为仅占用表示内容所需的字符数。但是，也可以定义一个值应填充到特定长度。\n",
    "\n",
    "不幸的是，旧式和新式格式之间的默认对齐方式不同。旧样式默认为右对齐，而新样式则左对齐。\"\"\"\n",
    "# 旧式的\n",
    "print('%10s' % ('test',))\n",
    "print('%-10s' % ('test',))\n",
    "print('%+10s' % ('test',))\n",
    "print('---'* 10)\n",
    "print('{:10}'.format('test'))\n",
    "print('{:>10}'.format('test'))\n",
    "print('{:<10}'.format('test'))\n",
    "print('{:^10}'.format('test'))\n"
   ]
  },
  {
   "cell_type": "code",
   "execution_count": 17,
   "metadata": {},
   "outputs": [
    {
     "name": "stdout",
     "output_type": "stream",
     "text": [
      "test......\n",
      "test______\n"
     ]
    }
   ],
   "source": [
    "# 填充 _\n",
    "print('{:.<10}'.format('test'))  #  .填充\n",
    "print('{:_<10}'.format('test')) # _ 填充"
   ]
  },
  {
   "cell_type": "code",
   "execution_count": 18,
   "metadata": {},
   "outputs": [
    {
     "name": "stdout",
     "output_type": "stream",
     "text": [
      "xylop\n",
      "xylop\n"
     ]
    }
   ],
   "source": [
    "\"\"\"反向填充也可以将过长的值截断为特定数量的字符。\n",
    "\n",
    "处理数字。格式中指定输出的精度。对于字符串，这意味着输出被截断为指定的长度。在我们的例子中，截取5个字符。\"\"\"\n",
    "\n",
    "print('%.5s' % ('xylophone',))\n",
    "print('{:.5}'.format('xylophone'))"
   ]
  },
  {
   "cell_type": "code",
   "execution_count": 19,
   "metadata": {},
   "outputs": [
    {
     "name": "stdout",
     "output_type": "stream",
     "text": [
      "xylop     \n",
      "xylop     \n"
     ]
    }
   ],
   "source": [
    "# 结合截断和填充\n",
    "print('%-10.5s' % ('xylophone',))\n",
    "print('{:10.5}'.format('xylophone'))"
   ]
  },
  {
   "cell_type": "code",
   "execution_count": 42,
   "metadata": {},
   "outputs": [
    {
     "name": "stdout",
     "output_type": "stream",
     "text": [
      "42\n",
      "42\n",
      "My average of this semester was 78.23%\n",
      "My average of this semester was 78.23%\n",
      "The binary of 100 is 1100100\n",
      "The octal of 100 is 144\n"
     ]
    }
   ],
   "source": [
    "#  数字\n",
    "print('%d' % (42,))\n",
    "print('{:d}'.format(42))\n",
    "\n",
    "# 固定位置的取参\n",
    "print (\"My average of this {} was {:.2f}%\"\n",
    "            .format(\"semester\", 78.234876))\n",
    "# 不到位置\n",
    "print (\"My average of this {0} was {1:.2f}%\"\n",
    "            .format(\"semester\", 78.234876))\n",
    "\n",
    "# 格式化同时转换为二进制\n",
    "print(\"The {0} of 100 is {1:b}\"\n",
    "        .format(\"binary\", 100))\n",
    "\n",
    "# 格式化同时转换为八进制\n",
    "print(\"The {0} of 100 is {1:o}\"\n",
    "        .format(\"octal\", 100))"
   ]
  },
  {
   "cell_type": "code",
   "execution_count": 22,
   "metadata": {},
   "outputs": [
    {
     "name": "stdout",
     "output_type": "stream",
     "text": [
      "3.141593\n",
      "3.141593\n",
      "  42\n",
      "  42\n"
     ]
    }
   ],
   "source": [
    "# 与字符串类似，数字也可以约束到特定宽度\n",
    "print('%f' % (3.141592653589793,))\n",
    "print('{:f}'.format(3.141592653589793))\n",
    "print('%4d' % (42,))\n",
    "print('{:4d}'.format(42))"
   ]
  },
  {
   "cell_type": "code",
   "execution_count": 23,
   "metadata": {},
   "outputs": [
    {
     "name": "stdout",
     "output_type": "stream",
     "text": [
      "003.14\n",
      "003.14\n"
     ]
    }
   ],
   "source": [
    "\"\"\"类似于截断字符串，浮点数的精度限制了小数点后的位置数。\n",
    "\n",
    "对于浮点，填充值表示完整输出的长度。在下面的示例中，我们希望输出至少有6个字符，小数点后面有2个字符。\"\"\"\n",
    "print('%06.2f' % (3.141592653589793,))\n",
    "print('{:06.2f}'.format(3.141592653589793))\n"
   ]
  },
  {
   "cell_type": "code",
   "execution_count": 24,
   "metadata": {},
   "outputs": [
    {
     "name": "stdout",
     "output_type": "stream",
     "text": [
      "0042\n"
     ]
    }
   ],
   "source": [
    "print('{:04d}'.format(42))"
   ]
  },
  {
   "cell_type": "code",
   "execution_count": 25,
   "metadata": {},
   "outputs": [
    {
     "name": "stdout",
     "output_type": "stream",
     "text": [
      "+42\n",
      "+42\n"
     ]
    }
   ],
   "source": [
    "# 带符号的数字\n",
    "print('%+d' % (42,))\n",
    "print('{:+d}'.format(42))"
   ]
  },
  {
   "cell_type": "code",
   "execution_count": 26,
   "metadata": {},
   "outputs": [
    {
     "name": "stdout",
     "output_type": "stream",
     "text": [
      "-23\n",
      "-23\n"
     ]
    }
   ],
   "source": [
    "print('% d' % ((- 23),))\n",
    "print('{: d}'.format((- 23)))"
   ]
  },
  {
   "cell_type": "code",
   "execution_count": 27,
   "metadata": {},
   "outputs": [
    {
     "name": "stdout",
     "output_type": "stream",
     "text": [
      " 42\n",
      " 42\n"
     ]
    }
   ],
   "source": [
    "print('% d' % (42,))\n",
    "print('{: d}'.format(42))"
   ]
  },
  {
   "cell_type": "code",
   "execution_count": 28,
   "metadata": {},
   "outputs": [
    {
     "name": "stdout",
     "output_type": "stream",
     "text": [
      "-  23\n",
      "+  23\n"
     ]
    }
   ],
   "source": [
    "print('{:=5d}'.format((- 23)))\n",
    "print('{:=+5d}'.format(23))"
   ]
  },
  {
   "cell_type": "code",
   "execution_count": 29,
   "metadata": {},
   "outputs": [
    {
     "name": "stdout",
     "output_type": "stream",
     "text": [
      "Hodor Hodor!\n",
      "Hodor Hodor!\n"
     ]
    }
   ],
   "source": [
    "# 两种格式样式都支持命名占位符。\n",
    "data = {'first': 'Hodor', 'last': 'Hodor!'}\n",
    "print('%(first)s %(last)s' % data)\n",
    "print('{first} {last}'.format(**data))"
   ]
  },
  {
   "cell_type": "code",
   "execution_count": 30,
   "metadata": {},
   "outputs": [
    {
     "name": "stdout",
     "output_type": "stream",
     "text": [
      "Hodor Hodor!\n"
     ]
    }
   ],
   "source": [
    "print('{first} {last}'.format(first='Hodor', last='Hodor!'))"
   ]
  },
  {
   "cell_type": "code",
   "execution_count": 31,
   "metadata": {},
   "outputs": [
    {
     "name": "stdout",
     "output_type": "stream",
     "text": [
      "Jean-Luc Picard\n",
      "23 42\n"
     ]
    }
   ],
   "source": [
    "\"\"\"新样式格式化允许在访问嵌套数据结构时具有更大的灵活性。\n",
    "\n",
    "它支持访问支持__getitem__的容器，例如字典和列表：\"\"\"\n",
    "person = {'first': 'Jean-Luc', 'last': 'Picard'}\n",
    "print('{p[first]} {p[last]}'.format(p=person))\n",
    "data = [4, 8, 15, 16, 23, 42]\n",
    "print('{d[4]} {d[5]}'.format(d=data))"
   ]
  },
  {
   "cell_type": "code",
   "execution_count": 32,
   "metadata": {},
   "outputs": [
    {
     "name": "stdout",
     "output_type": "stream",
     "text": [
      "tree\n"
     ]
    }
   ],
   "source": [
    "class Plant(object):\n",
    "    type = 'tree'\n",
    "print('{p.type}'.format(p=Plant()))"
   ]
  },
  {
   "cell_type": "code",
   "execution_count": 33,
   "metadata": {},
   "outputs": [
    {
     "name": "stdout",
     "output_type": "stream",
     "text": [
      "tree: oak\n"
     ]
    }
   ],
   "source": [
    "class Plant(object):\n",
    "    type = 'tree'\n",
    "    kinds = [{'name': 'oak'}, {'name': 'maple'}]\n",
    "print('{p.type}: {p.kinds[0][name]}'.format(p=Plant()))"
   ]
  },
  {
   "cell_type": "code",
   "execution_count": 34,
   "metadata": {},
   "outputs": [
    {
     "name": "stdout",
     "output_type": "stream",
     "text": [
      "2001-02-03 04:05\n",
      "   test   \n"
     ]
    }
   ],
   "source": [
    "# 时间处理\n",
    "from datetime import datetime\n",
    "print('{:%Y-%m-%d %H:%M}'.format(datetime(2001, 2, 3, 4, 5)))\n",
    "\"\"\"此外，新样式格式允许使用参数化动态指定格式的所有组件。参数化格式是大括号中的嵌套表达式，可以在冒号后的父格式中出现。\n",
    "\n",
    "旧样式格式化也支持一些参数化，但更加有限。即它只允许输出的宽度和精度的参数化。\"\"\"\n",
    "print('{:{align}{width}}'.format('test', align='^', width='10'))"
   ]
  },
  {
   "cell_type": "code",
   "execution_count": 35,
   "metadata": {},
   "outputs": [
    {
     "name": "stdout",
     "output_type": "stream",
     "text": [
      "Gib = 2.718\n",
      "Gib = 2.718\n"
     ]
    }
   ],
   "source": [
    "print('%.*s = %.*f' % (3, 'Gibberish', 3, 2.7182))\n",
    "print('{:.{prec}} = {:.{prec}f}'.format('Gibberish', 2.7182, prec=3))"
   ]
  },
  {
   "cell_type": "code",
   "execution_count": 36,
   "metadata": {},
   "outputs": [
    {
     "name": "stdout",
     "output_type": "stream",
     "text": [
      " 2.72\n",
      " 2.72\n"
     ]
    }
   ],
   "source": [
    "print('%*.*f' % (5, 2, 2.7182))\n",
    "print('{:{width}.{prec}f}'.format(2.7182, width=5, prec=2))"
   ]
  },
  {
   "cell_type": "code",
   "execution_count": 37,
   "metadata": {},
   "outputs": [
    {
     "name": "stdout",
     "output_type": "stream",
     "text": [
      "Gib = 2.72\n",
      "2001-02-03 04:05\n"
     ]
    }
   ],
   "source": [
    "#  日期时间的组件可以单独设置：\n",
    "print('{:{prec}} = {:{prec}}'.format('Gibberish', 2.7182, prec='.3'))\n",
    "from datetime import datetime\n",
    "dt = datetime(2001, 2, 3, 4, 5)\n",
    "print('{:{dfmt} {tfmt}}'.format(dt, dfmt='%Y-%m-%d', tfmt='%H:%M'))"
   ]
  },
  {
   "cell_type": "code",
   "execution_count": 38,
   "metadata": {},
   "outputs": [
    {
     "name": "stdout",
     "output_type": "stream",
     "text": [
      "     +2.72\n"
     ]
    }
   ],
   "source": [
    "# 嵌套格式可以是位置参数。位置取决于开口花括号的顺序：\n",
    "print('{:{}{}{}.{}}'.format(2.7182818284, '>', '+', 10, 3))"
   ]
  },
  {
   "cell_type": "code",
   "execution_count": 39,
   "metadata": {},
   "outputs": [
    {
     "name": "stdout",
     "output_type": "stream",
     "text": [
      "     +2.72\n"
     ]
    }
   ],
   "source": [
    "# 关键字参数添加到组合中\n",
    "print('{:{}{sign}{}.{}}'.format(2.7182818284, '>', 10, 3, sign='+'))"
   ]
  },
  {
   "cell_type": "code",
   "execution_count": 40,
   "metadata": {},
   "outputs": [
    {
     "name": "stdout",
     "output_type": "stream",
     "text": [
      "I'm sorry I can't do that.\n"
     ]
    }
   ],
   "source": [
    "\"\"\"datetime示例通过使用__format __（）魔术方法来工作。\n",
    "您可以通过覆盖此方法在自己的对象中定义自定义格式处理。这使您可以完全控制所使用的格式语法。\"\"\"\n",
    "class HAL9000(object):\n",
    "\n",
    "    def __format__(self, format):\n",
    "        if (format == 'open-the-doors'):\n",
    "            return \"I'm sorry I can't do that.\"\n",
    "        return 'GOD 9000'\n",
    "\n",
    "print( '{:open-the-doors}'.format(HAL9000()))"
   ]
  },
  {
   "cell_type": "code",
   "execution_count": null,
   "metadata": {},
   "outputs": [],
   "source": []
  }
 ],
 "metadata": {
  "kernelspec": {
   "display_name": "Python 3",
   "language": "python",
   "name": "python3"
  },
  "language_info": {
   "codemirror_mode": {
    "name": "ipython",
    "version": 3
   },
   "file_extension": ".py",
   "mimetype": "text/x-python",
   "name": "python",
   "nbconvert_exporter": "python",
   "pygments_lexer": "ipython3",
   "version": "3.6.8"
  }
 },
 "nbformat": 4,
 "nbformat_minor": 2
}
