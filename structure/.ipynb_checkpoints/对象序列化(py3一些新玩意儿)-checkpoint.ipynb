{
 "cells": [
  {
   "cell_type": "code",
   "execution_count": 1,
   "metadata": {},
   "outputs": [
    {
     "name": "stdout",
     "output_type": "stream",
     "text": [
      "The Zen of Python, by Tim Peters\n",
      "\n",
      "Beautiful is better than ugly.\n",
      "Explicit is better than implicit.\n",
      "Simple is better than complex.\n",
      "Complex is better than complicated.\n",
      "Flat is better than nested.\n",
      "Sparse is better than dense.\n",
      "Readability counts.\n",
      "Special cases aren't special enough to break the rules.\n",
      "Although practicality beats purity.\n",
      "Errors should never pass silently.\n",
      "Unless explicitly silenced.\n",
      "In the face of ambiguity, refuse the temptation to guess.\n",
      "There should be one-- and preferably only one --obvious way to do it.\n",
      "Although that way may not be obvious at first unless you're Dutch.\n",
      "Now is better than never.\n",
      "Although never is often better than *right* now.\n",
      "If the implementation is hard to explain, it's a bad idea.\n",
      "If the implementation is easy to explain, it may be a good idea.\n",
      "Namespaces are one honking great idea -- let's do more of those!\n"
     ]
    }
   ],
   "source": [
    "import keyword\n",
    "import this"
   ]
  },
  {
   "cell_type": "code",
   "execution_count": 2,
   "metadata": {},
   "outputs": [
    {
     "data": {
      "text/plain": [
       "['False',\n",
       " 'None',\n",
       " 'True',\n",
       " 'and',\n",
       " 'as',\n",
       " 'assert',\n",
       " 'break',\n",
       " 'class',\n",
       " 'continue',\n",
       " 'def',\n",
       " 'del',\n",
       " 'elif',\n",
       " 'else',\n",
       " 'except',\n",
       " 'finally',\n",
       " 'for',\n",
       " 'from',\n",
       " 'global',\n",
       " 'if',\n",
       " 'import',\n",
       " 'in',\n",
       " 'is',\n",
       " 'lambda',\n",
       " 'nonlocal',\n",
       " 'not',\n",
       " 'or',\n",
       " 'pass',\n",
       " 'raise',\n",
       " 'return',\n",
       " 'try',\n",
       " 'while',\n",
       " 'with',\n",
       " 'yield']"
      ]
     },
     "execution_count": 2,
     "metadata": {},
     "output_type": "execute_result"
    }
   ],
   "source": [
    "keyword.kwlist"
   ]
  },
  {
   "cell_type": "code",
   "execution_count": 26,
   "metadata": {},
   "outputs": [],
   "source": [
    "p = [75.995, 91.972, 105.711, 123.203, 131.669, 150.697, 179.323, 203.212, 226.505, 249.633, 281.422]"
   ]
  },
  {
   "cell_type": "code",
   "execution_count": 5,
   "metadata": {},
   "outputs": [
    {
     "name": "stdout",
     "output_type": "stream",
     "text": [
      "3\n",
      "4\n"
     ]
    }
   ],
   "source": [
    "def e(x):\n",
    "    def f():\n",
    "        y = 1\n",
    "        nonlocal x\n",
    "        x = x + y\n",
    "        return x\n",
    "    return f\n",
    "    \n",
    "inc = e(2)    \n",
    "print(inc())\n",
    "print(inc())"
   ]
  },
  {
   "cell_type": "code",
   "execution_count": 27,
   "metadata": {},
   "outputs": [
    {
     "data": {
      "text/plain": [
       "5"
      ]
     },
     "execution_count": 27,
     "metadata": {},
     "output_type": "execute_result"
    }
   ],
   "source": [
    "f = lambda x:x+2\n",
    "f(3)"
   ]
  },
  {
   "cell_type": "code",
   "execution_count": 28,
   "metadata": {},
   "outputs": [
    {
     "name": "stdout",
     "output_type": "stream",
     "text": [
      "<class 'map'>\n",
      "[92.972, 106.711, 124.203, 132.669, 151.697, 180.323, 204.212, 227.505, 250.633, 282.422]\n",
      "[92.972, 106.711, 124.203, 132.669, 151.697, 180.323, 204.212, 227.505, 250.633, 282.422]\n"
     ]
    }
   ],
   "source": [
    "p = [91.972, 105.711, 123.203, 131.669, 150.697, 179.323, 203.212, 226.505, 249.633, 281.422]\n",
    "f = map(lambda x:x+1,p)\n",
    "print(type(f))\n",
    "print(list(f))\n",
    "print(list(map(lambda x:x+1,p)))\n",
    "for i in f:\n",
    "    print(i)"
   ]
  },
  {
   "cell_type": "code",
   "execution_count": null,
   "metadata": {},
   "outputs": [],
   "source": [
    "# 对象序列化在python中是picking进行的\n",
    "# picking 协议\n",
    "# __getinitargs__(self)\n",
    "#.    如果你希望unpickle 时，__init__方法能够调用，那么需要定义__getinitargs__，\n",
    "# 它需要返回一系列参数元组，这些参数就是传给__init__的参数\n",
    "# 对 旧式类有效 Class A ，而不是 Class A(object):"
   ]
  },
  {
   "cell_type": "code",
   "execution_count": null,
   "metadata": {},
   "outputs": [],
   "source": [
    "# __getnewargs__(self):\n",
    "#.   __getnewargs__ 返回参数元组传值给__new__, 其他与__getinitargs__ 类似"
   ]
  },
  {
   "cell_type": "code",
   "execution_count": null,
   "metadata": {},
   "outputs": [],
   "source": [
    "# __getstate__(self)\n",
    "# 调用pickle.dump时，默认对象__dict__属性被存储，如果你要修改这种行为，可以在__getstate__方法中返回一个state\n",
    "# state将在调用pickle.load时传值给 __setstate__\n"
   ]
  },
  {
   "cell_type": "code",
   "execution_count": null,
   "metadata": {},
   "outputs": [],
   "source": [
    "# __setstate__(self, state)\n",
    "# 一般定义 __getstate__, 相应的需要定义__setstate__对  __getstate__,返回的state进行处理"
   ]
  },
  {
   "cell_type": "code",
   "execution_count": null,
   "metadata": {},
   "outputs": [],
   "source": [
    "# __reduce__(self)\n",
    "# 如果pickle 数据包含了自定义的扩展类比如c语言实现的python扩展类，\n",
    "# 就需要通过实现 __reduce__ 方法控制行为了， \n",
    "# 注意：⚠️ __reduce__ 和 reduce() 没有任何关系"
   ]
  },
  {
   "cell_type": "code",
   "execution_count": 29,
   "metadata": {},
   "outputs": [],
   "source": [
    "# 示例，定义一个类，实现记录历史信息的方法，dump时，清空当前值"
   ]
  },
  {
   "cell_type": "code",
   "execution_count": 30,
   "metadata": {},
   "outputs": [],
   "source": [
    "import pickle\n",
    "import time"
   ]
  },
  {
   "cell_type": "code",
   "execution_count": 33,
   "metadata": {},
   "outputs": [],
   "source": [
    "class Slate:\n",
    "    \"\"\"Class to store a string and a changelog, and forget its value when pickled\"\"\"\n",
    "    def __init__(self, value):\n",
    "        self.value = value\n",
    "        self.last_change = time.time()\n",
    "        self.history = []\n",
    "\n",
    "    def change(self, new_value):\n",
    "        # 修改value，将上次的value记录到history\n",
    "        self.history.append((self.last_change, self.value))\n",
    "        self.value = new_value\n",
    "        self.last_vhange = time.time()\n",
    "    \n",
    "    def print_changes(self):\n",
    "        print('Changelog for Slate object:')\n",
    "        for k,v in self.history:\n",
    "            print('{} {}'.format(k, v))\n",
    "    \n",
    "    def __getstate__(self):\n",
    "        # 故意不返回slef.value 和self.last_change. 每次unpickle时，清空当前状态，仅仅保留history\n",
    "        return self.history\n",
    "    \n",
    "    def __setstate__(self, state):\n",
    "        self.history = state\n",
    "        self.value, self.last_vhange = None, None"
   ]
  },
  {
   "cell_type": "code",
   "execution_count": 38,
   "metadata": {},
   "outputs": [
    {
     "data": {
      "text/plain": [
       "[]"
      ]
     },
     "execution_count": 38,
     "metadata": {},
     "output_type": "execute_result"
    }
   ],
   "source": [
    "slate = Slate(0)\n",
    "time.sleep(0.5)\n",
    "slate.__getstate__()\n"
   ]
  },
  {
   "cell_type": "code",
   "execution_count": 39,
   "metadata": {},
   "outputs": [
    {
     "data": {
      "text/plain": [
       "[(1564117189.1837618, 0)]"
      ]
     },
     "execution_count": 39,
     "metadata": {},
     "output_type": "execute_result"
    }
   ],
   "source": [
    "slate.change(100)\n",
    "time.sleep(0.5)\n",
    "slate.__getstate__()"
   ]
  },
  {
   "cell_type": "code",
   "execution_count": 46,
   "metadata": {},
   "outputs": [
    {
     "name": "stdout",
     "output_type": "stream",
     "text": [
      "[(1564117189.1837618, 0), (1564117189.1837618, 100), (1564117189.1837618, 200), (1564117189.1837618, 200), (1564117189.1837618, 300), (1564117189.1837618, 200), (1564117189.1837618, 300), (1564117189.1837618, 200), (1564117189.1837618, 300), (1564117189.1837618, 200), (1564117189.1837618, 300), (1564117189.1837618, 200)]\n",
      "his:\n"
     ]
    }
   ],
   "source": [
    "slate.change(200)\n",
    "slate.change(300)\n",
    "time.sleep(0.5)\n",
    "print(slate.__getstate__())\n",
    "print('his:'.format(slate.history))"
   ]
  },
  {
   "cell_type": "code",
   "execution_count": 49,
   "metadata": {},
   "outputs": [
    {
     "name": "stdout",
     "output_type": "stream",
     "text": [
      "Changelog for Slate object:\n",
      "1564117189.1837618 0\n",
      "1564117189.1837618 100\n",
      "1564117189.1837618 200\n",
      "1564117189.1837618 200\n",
      "1564117189.1837618 300\n",
      "1564117189.1837618 200\n",
      "1564117189.1837618 300\n",
      "1564117189.1837618 200\n",
      "1564117189.1837618 300\n",
      "1564117189.1837618 200\n",
      "1564117189.1837618 300\n",
      "1564117189.1837618 200\n"
     ]
    }
   ],
   "source": [
    "slate.print_changes()  # 输出历史对比"
   ]
  },
  {
   "cell_type": "code",
   "execution_count": 48,
   "metadata": {},
   "outputs": [
    {
     "name": "stdout",
     "output_type": "stream",
     "text": [
      "current value: None\n",
      "Changelog for Slate object:\n",
      "1564117189.1837618 0\n",
      "1564117189.1837618 100\n",
      "1564117189.1837618 200\n",
      "1564117189.1837618 200\n",
      "1564117189.1837618 300\n",
      "1564117189.1837618 200\n",
      "1564117189.1837618 300\n",
      "1564117189.1837618 200\n",
      "1564117189.1837618 300\n",
      "1564117189.1837618 200\n",
      "1564117189.1837618 300\n",
      "1564117189.1837618 200\n",
      "None\n"
     ]
    }
   ],
   "source": [
    "with open('slate.pkl', 'wb') as jar:\n",
    "    pickle.dump(slate, jar)\n",
    "del slate    # delete it\n",
    "with open('slate.pkl', 'rb') as jar:\n",
    "    slate = pickle.load(jar)\n",
    "print('current value: {}'.format(slate.value))   #None\n",
    "print(slate.print_changes())  # 这里输出到历史与上面的一致"
   ]
  },
  {
   "cell_type": "code",
   "execution_count": null,
   "metadata": {},
   "outputs": [],
   "source": []
  },
  {
   "cell_type": "code",
   "execution_count": null,
   "metadata": {},
   "outputs": [],
   "source": []
  },
  {
   "cell_type": "code",
   "execution_count": null,
   "metadata": {},
   "outputs": [],
   "source": []
  },
  {
   "cell_type": "code",
   "execution_count": null,
   "metadata": {},
   "outputs": [],
   "source": []
  },
  {
   "cell_type": "code",
   "execution_count": null,
   "metadata": {},
   "outputs": [],
   "source": []
  },
  {
   "cell_type": "code",
   "execution_count": null,
   "metadata": {},
   "outputs": [],
   "source": []
  },
  {
   "cell_type": "code",
   "execution_count": null,
   "metadata": {},
   "outputs": [],
   "source": []
  },
  {
   "cell_type": "code",
   "execution_count": null,
   "metadata": {},
   "outputs": [],
   "source": []
  },
  {
   "cell_type": "code",
   "execution_count": null,
   "metadata": {},
   "outputs": [],
   "source": []
  },
  {
   "cell_type": "code",
   "execution_count": null,
   "metadata": {},
   "outputs": [],
   "source": []
  }
 ],
 "metadata": {
  "kernelspec": {
   "display_name": "Python 3",
   "language": "python",
   "name": "python3"
  },
  "language_info": {
   "codemirror_mode": {
    "name": "ipython",
    "version": 3
   },
   "file_extension": ".py",
   "mimetype": "text/x-python",
   "name": "python",
   "nbconvert_exporter": "python",
   "pygments_lexer": "ipython3",
   "version": "3.6.8"
  }
 },
 "nbformat": 4,
 "nbformat_minor": 2
}
