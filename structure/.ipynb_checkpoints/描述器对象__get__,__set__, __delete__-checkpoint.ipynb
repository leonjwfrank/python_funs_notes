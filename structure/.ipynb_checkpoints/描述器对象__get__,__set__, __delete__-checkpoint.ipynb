{
 "cells": [
  {
   "cell_type": "code",
   "execution_count": 2,
   "metadata": {},
   "outputs": [],
   "source": [
    "\"\"\"描述器对比类的属性实现，有更广阔的适用范围，定一个类和对象甚至可以不用初始化实际属性\"\"\"\n",
    "class Meter(object):\n",
    "        '''descriptor for a mater.'''\n",
    "\n",
    "        def __init__(self,value = 0.0):\n",
    "                self.value = float(value)\n",
    "        def __get__(self,instance,owner):\n",
    "                return self.value\n",
    "        def __set__(self,instance,value):\n",
    "                self.value = float(value)\n",
    "\n",
    "class Foot(object):\n",
    "        '''descriptor for a foot'''\n",
    "        def __get__(self,instance,owner):\n",
    "                return instance.meter*3.2808\n",
    "        def __set__(self,instance,value):\n",
    "                instance.mater = float(value) / 3.2808\n",
    "\n",
    "class Distance(object):\n",
    "        \"\"\"没有对实例distance赋值前，meter 和 foot 应该是各自类的实例对象，但是输出却是数值，这是因为__get__发挥作用\"\"\"\n",
    "        meter = Meter()\n",
    "        foot = Foot()"
   ]
  },
  {
   "cell_type": "code",
   "execution_count": 3,
   "metadata": {
    "scrolled": true
   },
   "outputs": [
    {
     "name": "stdout",
     "output_type": "stream",
     "text": [
      "0.0 0.0\n"
     ]
    }
   ],
   "source": [
    "d = Distance()\n",
    "print(d.meter, d.foot) "
   ]
  },
  {
   "cell_type": "code",
   "execution_count": 4,
   "metadata": {},
   "outputs": [
    {
     "name": "stdout",
     "output_type": "stream",
     "text": [
      "0.0 0.0\n"
     ]
    }
   ],
   "source": [
    "#d.meter = 1\n",
    "#print(d.meter, d.foot) \n",
    "d.foot = 1\n",
    "print(d.meter, d.foot) "
   ]
  },
  {
   "cell_type": "code",
   "execution_count": 5,
   "metadata": {},
   "outputs": [
    {
     "name": "stdout",
     "output_type": "stream",
     "text": [
      "2.0 6.5616 apple\n"
     ]
    }
   ],
   "source": [
    "d.meter = 2\n",
    "d.goods = 'apple'     # 临时赋予实例 属性\n",
    "\"\"\"我们只修改了meter， 但是foot 也修改了，这是__set__发挥作用\"\"\"\n",
    "print(d.meter, d.foot, d.goods) \n"
   ]
  },
  {
   "cell_type": "code",
   "execution_count": null,
   "metadata": {},
   "outputs": [],
   "source": [
    "\"\"\"描述器对象（Meter,Foot）不能独立存在，它需要被另一个所有者类Distance所持有，\n",
    "描述器对象可以访问到拥有者实例的属性，比如例子中的Foot的instance.meter\"\"\"\n",
    "\n",
    "# 一个类要成为描述器，必须实现__get__, __set__, __delete__ 中至少一个方法，\n",
    "# __get__(self, instance, owner)   \n",
    "#         参数instance 是拥有者类的实例，参数owner是拥有者类本身。__get__在拥有者对其读值时，调用。\n",
    "# __set__(self, instance, value)\n",
    "#.        在其拥有者对其进行修改时调用\n",
    "# __delete__(self, instance)\n",
    "#      __delete__ 在其拥有者对其进行删除时调用"
   ]
  }
 ],
 "metadata": {
  "kernelspec": {
   "display_name": "Python 3",
   "language": "python",
   "name": "python3"
  },
  "language_info": {
   "codemirror_mode": {
    "name": "ipython",
    "version": 3
   },
   "file_extension": ".py",
   "mimetype": "text/x-python",
   "name": "python",
   "nbconvert_exporter": "python",
   "pygments_lexer": "ipython3",
   "version": "3.6.8"
  }
 },
 "nbformat": 4,
 "nbformat_minor": 2
}
