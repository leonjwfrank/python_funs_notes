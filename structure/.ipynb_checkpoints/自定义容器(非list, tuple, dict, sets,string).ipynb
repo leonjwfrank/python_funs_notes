{
 "cells": [
  {
   "cell_type": "code",
   "execution_count": null,
   "metadata": {},
   "outputs": [],
   "source": [
    "\"\"\"tuple, string 不可以容器不能改变元素值\n",
    "list,dict,sets 可改变\"\"\""
   ]
  },
  {
   "cell_type": "code",
   "execution_count": null,
   "metadata": {},
   "outputs": [],
   "source": [
    "#  不可变容器，定义 __len__， __getitem__方法\n",
    "#  可变容器需要另外方法的定义 __setitem__和 __delitem__"
   ]
  },
  {
   "cell_type": "code",
   "execution_count": null,
   "metadata": {},
   "outputs": [],
   "source": [
    "# 如果自定义数据结构还需要支持可迭代,需要定义__iter__\n",
    "# __len__(self)\n"
   ]
  },
  {
   "cell_type": "code",
   "execution_count": null,
   "metadata": {},
   "outputs": [],
   "source": [
    "# 如果需要返回数值类型，以表示容器长度，该方法在可变容器和不可变容器必须实现\n",
    "# __getitem__(self, key)\n"
   ]
  },
  {
   "cell_type": "code",
   "execution_count": null,
   "metadata": {},
   "outputs": [],
   "source": [
    "# 当你执行slef[key] 时，调用的是__getitem__方法\n",
    "# 该方法在可变容器和不可变容器中也必须实现\n",
    "# 调用时，如果key类型错误，方法抛出错误 TypeError\n",
    "# 如果没法返回key对应的数值时，抛出错误 ValueError\n"
   ]
  },
  {
   "cell_type": "code",
   "execution_count": null,
   "metadata": {},
   "outputs": [],
   "source": [
    "# __setitem__(self, key, value)\n",
    "# 当你执行 self[key] = value 时，调用__setitem__"
   ]
  },
  {
   "cell_type": "code",
   "execution_count": null,
   "metadata": {},
   "outputs": [],
   "source": [
    "# __delitem__(self, key)\n",
    "# 当你执行del self[key] 时，调用该方法"
   ]
  },
  {
   "cell_type": "code",
   "execution_count": null,
   "metadata": {},
   "outputs": [],
   "source": [
    "# __iter__(self)\n",
    "# 该方法需要返回一个迭代器(iterator)，当你执行for x in container: 或使用 iter(container)时，该方法被调用"
   ]
  },
  {
   "cell_type": "code",
   "execution_count": null,
   "metadata": {},
   "outputs": [],
   "source": [
    "# __reversed__(self)\n",
    "# 如果想要该数据结构被内建函数reversed()支持，还需要实现该方法\n"
   ]
  },
  {
   "cell_type": "code",
   "execution_count": 1,
   "metadata": {},
   "outputs": [],
   "source": [
    "# __contains__(self, item)\n",
    "# 如果定义该方法，那么在执行 item in container 或者 item not in container  会被调用\n",
    "# 如果没有定义，python会迭代容器所有元素，从而决定返回True 或 False"
   ]
  },
  {
   "cell_type": "code",
   "execution_count": null,
   "metadata": {},
   "outputs": [],
   "source": [
    "# __missing__(self, item)\n",
    "# dict 字典类型会有该方法，它定义了key 如果在容器中找不到时，触发的行为\n",
    "# 如 d = {'a':1} 执行 d['c'] 时，d.__miss__('notexist') 会被调用"
   ]
  },
  {
   "cell_type": "code",
   "execution_count": 2,
   "metadata": {},
   "outputs": [],
   "source": [
    "# 自定义一个list容器\n",
    "class FunctionalList:\n",
    "    ''' 实现了内置类型list的功能,并丰富了一些其他方法: head, tail, init, last, drop, take'''\n",
    "\n",
    "    def __init__(self, values=None):\n",
    "        if values is None:\n",
    "            self.values = []\n",
    "        else:\n",
    "            self.values = values\n",
    "\n",
    "    def __len__(self):\n",
    "        return len(self.values)\n",
    "\n",
    "    def __getitem__(self, key):\n",
    "        return self.values[key]\n",
    "\n",
    "    def __setitem__(self, key, value):\n",
    "        self.values[key] = value\n",
    "\n",
    "    def __delitem__(self, key):\n",
    "        del self.values[key]\n",
    "\n",
    "    def __iter__(self):\n",
    "        return iter(self.values)\n",
    "\n",
    "    def __reversed__(self):\n",
    "        return FunctionalList(reversed(self.values))\n",
    "\n",
    "    def append(self, value):\n",
    "        self.values.append(value)\n",
    "    def head(self):\n",
    "        # 获取第一个元素\n",
    "        return self.values[0]\n",
    "    def tail(self):\n",
    "        # 获取第一个元素之后的所有元素\n",
    "        return self.values[1:]\n",
    "    def init(self):\n",
    "        # 获取最后一个元素之前的所有元素\n",
    "        return self.values[:-1]\n",
    "    def last(self):\n",
    "        # 获取最后一个元素\n",
    "        return self.values[-1]\n",
    "    def drop(self, n):\n",
    "        # 获取所有元素，除了前N个\n",
    "        return self.values[n:]\n",
    "    def take(self, n):\n",
    "        # 获取前N个元素\n",
    "        return self.values[:n]"
   ]
  },
  {
   "cell_type": "code",
   "execution_count": 4,
   "metadata": {},
   "outputs": [
    {
     "name": "stdout",
     "output_type": "stream",
     "text": [
      "{'china': {'guangdong': {'shenzhen': 'sunny'}, 'hubei': {'wuhan': 'windy'}}, 'USA': {'California': {'Los Angeles': 'sunny'}}}\n"
     ]
    }
   ],
   "source": [
    "class AutoVivification(dict):\n",
    "    \"\"\"引用未定义的属性时，为你自动创建字典或数组\"\"\"\n",
    "    \"\"\"Implementation of perl's autovivification feature.\"\"\"\n",
    "    def __missing__(self, key):\n",
    "        value = self[key] = type(self)()\n",
    "        return value\n",
    "\n",
    "weather = AutoVivification()\n",
    "weather['china']['guangdong']['shenzhen'] = 'sunny'\n",
    "weather['china']['hubei']['wuhan'] = 'windy'\n",
    "weather['USA']['California']['Los Angeles'] = 'sunny'\n",
    "print(weather)"
   ]
  },
  {
   "cell_type": "code",
   "execution_count": null,
   "metadata": {},
   "outputs": [],
   "source": [
    "# 参考链接 https://docs.python.org/2/library/collections.html"
   ]
  }
 ],
 "metadata": {
  "kernelspec": {
   "display_name": "Python 3",
   "language": "python",
   "name": "python3"
  },
  "language_info": {
   "codemirror_mode": {
    "name": "ipython",
    "version": 3
   },
   "file_extension": ".py",
   "mimetype": "text/x-python",
   "name": "python",
   "nbconvert_exporter": "python",
   "pygments_lexer": "ipython3",
   "version": "3.6.8"
  }
 },
 "nbformat": 4,
 "nbformat_minor": 2
}
