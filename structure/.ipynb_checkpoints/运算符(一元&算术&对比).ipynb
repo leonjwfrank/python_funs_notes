{
 "cells": [
  {
   "cell_type": "code",
   "execution_count": null,
   "metadata": {},
   "outputs": [],
   "source": [
    "# 一元运算符\n",
    "# __pos__     + 号\n",
    "# __neg__     - 号\n",
    "# __abs__     abs() 内建函数\n",
    "# __round__  round(n) 内建函数， 四舍五入精度\n",
    "# __floor__(self)    向下取整\n",
    "# __ceil__(self)    向上取整"
   ]
  },
  {
   "cell_type": "code",
   "execution_count": 1,
   "metadata": {},
   "outputs": [],
   "source": [
    "# 算术运算符\n",
    "# __add__(self, other)     +\n",
    "# __sub__(self, other)     -\n",
    "# __mul__(self, other)     *\n",
    "# __floordiv__(self, other)    //\n",
    "# __div__(self, other)           /      # py3 中没有 __div__\n",
    "# __truediv__(self, other)    true division  需要声明 from __future__ import division\n",
    "# __mod__(self, other)      % 运算，取余运算\n",
    "# __divmod__(self, other)  # divmod()  内建函数\n",
    "# __pow__(self, other)    实现 ** 操作，N次方\n",
    "# __lshift__(self, other)   实现 位操作 <<\n",
    "# __rshift__(self, other)    实现位操作 >>\n",
    "# __and__(self, other)    实现与 &\n",
    "# __or__(self, other)      实现或 |\n",
    "# __xor__(self, other)    实现 ^"
   ]
  },
  {
   "cell_type": "code",
   "execution_count": null,
   "metadata": {},
   "outputs": [],
   "source": [
    "# 反算术运算符\n",
    "# obj + other      如果obj 实现了 __add__方法，可正常秩序\n",
    "# other + obj     如果other没有__add__方法，但是 obj 实现了 __radd__,那么这里也正常\n",
    "# __radd__ 就是 __add__的反运算符\n",
    "# 另外如 __rmul__ 等都是反运算符"
   ]
  },
  {
   "cell_type": "code",
   "execution_count": null,
   "metadata": {},
   "outputs": [],
   "source": [
    "# 比较运算符 全部的查看官网"
   ]
  },
  {
   "cell_type": "code",
   "execution_count": null,
   "metadata": {},
   "outputs": [],
   "source": [
    "# #  单词类 对比运算符的重载\n",
    "class Word(str):\n",
    "    '''存储单词的类，定义比较单词的几种方法, 主要是比较长度'''\n",
    "    def __new__(cls, word):\n",
    "        # 注意我们必须要用到__new__方法，因为str是不可变类型\n",
    "        # 所以我们必须在创建的时候将它初始化\n",
    "        if ' ' in word:\n",
    "            print(\"Value contains spaces. Truncating to first space.\")\n",
    "            word = word[:word.index(' ')]  # 单词是第一个空格之前的所有字符\n",
    "        return str.__new__(cls, word)\n",
    "\n",
    "    def __gt__(self, other):\n",
    "        # 定义比较操作符  >  的行为\n",
    "        return len(self) > len(other)\n",
    "    def __lt__(self, other):\n",
    "        # 定义比较操作符  <  的行为\n",
    "        return len(self) < len(other)\n",
    "    def __ge__(self, other):\n",
    "         # 定义比较操作符  >=  的行为       \n",
    "        return len(self) >= len(other)\n",
    "    def __le__(self, other):\n",
    "        # 定义比较操作符  <=  的行为   \n",
    "        return len(self) <= len(other)\n",
    "\n",
    "print('foo < fool:', Word('foo') < Word('fool') ) # True\n",
    "print('foolish > fool:', Word('foolish') > Word('fool'))  # True\n",
    "print('bar >= foo:', Word('bar') >= Word('foo'))  # True\n",
    "print('bar <= foo:', Word('bar') <= Word('foo'))  # True\n",
    "print('bar == foo:', Word('bar') == Word('foo'))  # False, 用了str内置的比较方法来进行比较\n",
    "print('bar != foo:', Word('bar') != Word('foo'))  # True"
   ]
  },
  {
   "cell_type": "code",
   "execution_count": null,
   "metadata": {},
   "outputs": [],
   "source": [
    "# 增量赋值\n",
    "# __iadd__(self, other),    i += 1\n",
    "# __isub__(self,other),     i -= 1\n",
    "# ......"
   ]
  },
  {
   "cell_type": "code",
   "execution_count": null,
   "metadata": {},
   "outputs": [],
   "source": [
    "# 类型转换\n",
    "# __init__\n",
    "# __long__\n",
    "# __oct__      八进制\n",
    "# __hex__     十六进制\n",
    "# __complex__    # 复数 1+2j 这样的"
   ]
  },
  {
   "cell_type": "code",
   "execution_count": 3,
   "metadata": {},
   "outputs": [
    {
     "name": "stdout",
     "output_type": "stream",
     "text": [
      "b\n",
      "[]\n"
     ]
    }
   ],
   "source": [
    "class Thing(object):\n",
    "    def __index__(self):\n",
    "        return 1\n",
    "\n",
    "thing = Thing()\n",
    "list_ = ['a', 'b', 'c']\n",
    "# 这里 list_[thing]  和 list_[1]   表现一致， 因为__index__ 实现了\n",
    "print(list_[thing])  # 'b'\n",
    "print(list_[thing:thing] ) # []\n"
   ]
  },
  {
   "cell_type": "code",
   "execution_count": 6,
   "metadata": {},
   "outputs": [
    {
     "name": "stdout",
     "output_type": "stream",
     "text": [
      "apple\n"
     ]
    }
   ],
   "source": [
    "class Thing(object):\n",
    "    def __hash__(self):\n",
    "        return 1\n",
    "    def __eq__(self, other):\n",
    "        return hash(self) == hash(other)\n",
    "\n",
    "thing = Thing()\n",
    "dict_ = {1: 'apple', 2: 'banana', 3: 'cat'}\n",
    "print(dict_[thing] ) # apple"
   ]
  },
  {
   "cell_type": "code",
   "execution_count": null,
   "metadata": {},
   "outputs": [],
   "source": []
  },
  {
   "cell_type": "code",
   "execution_count": null,
   "metadata": {},
   "outputs": [],
   "source": []
  },
  {
   "cell_type": "code",
   "execution_count": null,
   "metadata": {},
   "outputs": [],
   "source": []
  },
  {
   "cell_type": "code",
   "execution_count": null,
   "metadata": {},
   "outputs": [],
   "source": []
  },
  {
   "cell_type": "code",
   "execution_count": null,
   "metadata": {},
   "outputs": [],
   "source": []
  },
  {
   "cell_type": "code",
   "execution_count": null,
   "metadata": {},
   "outputs": [],
   "source": []
  },
  {
   "cell_type": "code",
   "execution_count": null,
   "metadata": {},
   "outputs": [],
   "source": []
  },
  {
   "cell_type": "code",
   "execution_count": null,
   "metadata": {},
   "outputs": [],
   "source": []
  },
  {
   "cell_type": "code",
   "execution_count": null,
   "metadata": {},
   "outputs": [],
   "source": []
  },
  {
   "cell_type": "code",
   "execution_count": null,
   "metadata": {},
   "outputs": [],
   "source": []
  }
 ],
 "metadata": {
  "kernelspec": {
   "display_name": "Python 3",
   "language": "python",
   "name": "python3"
  },
  "language_info": {
   "codemirror_mode": {
    "name": "ipython",
    "version": 3
   },
   "file_extension": ".py",
   "mimetype": "text/x-python",
   "name": "python",
   "nbconvert_exporter": "python",
   "pygments_lexer": "ipython3",
   "version": "3.6.8"
  }
 },
 "nbformat": 4,
 "nbformat_minor": 2
}
